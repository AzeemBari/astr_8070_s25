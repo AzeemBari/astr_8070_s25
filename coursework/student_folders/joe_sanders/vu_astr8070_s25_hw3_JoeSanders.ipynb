{
 "cells": [
  {
   "cell_type": "markdown",
   "metadata": {},
   "source": [
    "### ASTR 3970 / 8070: Astrostatistics\n",
    "***S. R. Taylor***\n",
    "___\n",
    "\n",
    "# Homework 3\n",
    "### Due: Saturday, Feb 1st at 11.59pm CST\n",
    "---"
   ]
  },
  {
   "cell_type": "markdown",
   "metadata": {},
   "source": [
    "## Only one problem this week\n",
    "\n",
    "This problem uses a dataset in `/coursework/homeworks/hw_data/`.\n",
    "\n",
    "1) Read in `hw3_data_1.npy`. This is a (100 x 2) numpy array, with measurements in the first column and uncertainties in the second column. Using the analytic results for heteroscedastic Gaussian data from lectures, compute the sample mean and the standard error on the sample mean from for this data.\n",
    "\n",
    "2) Reusing some approaches and tools from `Lecture_6`, write a ln-likelihood function for heteroscedastic Gaussian data, and use it in a fitting algorithm to find the best-fit mean. *Remember that scipy optimizers are set up to minimize functions.*\n",
    "\n",
    "3) Using the same numerical technique from `Lecture_5`, compute the Fisher uncertainty estimate on the mean.\n",
    "\n",
    "4) Using the bootstrap method, generate $2000$ bootstrap realizations of this dataset. Using an appropriate timing function in python, how long did the generation of these realizations take? \n",
    "*DO NOT use the `astroML` code. Write your own bootstrap function from scratch. Also recall that when resampling data, measurements and uncertainties should stay paired together. This code will be graded on efficiency and speed; it should not take more than 1 second to execute.*\n",
    "\n",
    "5) Repeat (2) with all $2000$ boostrap datasets to find the distribution of the sample mean. How long did this take? Plot a normalized histogram of these bootstrap means, and overplot a Gaussian pdf with the mean and std found in (1). Do these agree?\n",
    "\n",
    "6) While we have fitted a heteroscedastic Gaussian to this data, let's try something else. Write some code to define a ln-likelihood for a Laplace distribution evaluated on this data. Fit simultaneously for the Laplace location parameter $\\mu$ and scale parameter $\\Delta$.\n",
    "\n",
    "7) Compute the AIC values for the heteroscedastic Gaussian model and the Laplacian model. Which model is favored by the data?\n",
    "\n",
    "8) Using the $2000$ bootstrap datasets from before, fit for the Laplacian $\\mu$ and $\\Delta$ for each. Make a nice `corner` plot of the distributions of $\\mu$ and $\\Delta$ that shows both the marginal $1$D distributions and the joint $2$D distribution. Make sure the plot has labels, shows the titles on each $1$D marginal panel, and has $68\\%$ and $95\\%$ levels.\n",
    "\n",
    "9) Let's finish with a Fisher uncertainty estimate of the Laplacian parameters. Use the following code to install `numdifftools` which provides a simple way to compute derivatives. We can then compute the Hessian matrix, which is the matrix of the second derivatives of the user's function. This should be computed at the best-fit Laplacian parameters $\\mu$ and $\\Delta$. To finish, invert the matrix, and then take the square root. The diagonal entries will then be the Fisher uncertainties on $\\mu$ and $\\Delta$. How does these compare to the bootstrap distribution widths found in (8)?"
   ]
  },
  {
   "cell_type": "code",
   "execution_count": 1,
   "metadata": {},
   "outputs": [
    {
     "name": "stdout",
     "output_type": "stream",
     "text": [
      "Defaulting to user installation because normal site-packages is not writeable\n",
      "Collecting numdifftools\n",
      "  Downloading numdifftools-0.9.41-py2.py3-none-any.whl.metadata (39 kB)\n",
      "Requirement already satisfied: numpy>=1.9 in /home/js3/.local/lib/python3.10/site-packages (from numdifftools) (1.26.4)\n",
      "Requirement already satisfied: scipy>=0.8 in /home/js3/.local/lib/python3.10/site-packages (from numdifftools) (1.14.0)\n",
      "Downloading numdifftools-0.9.41-py2.py3-none-any.whl (100 kB)\n",
      "Installing collected packages: numdifftools\n",
      "Successfully installed numdifftools-0.9.41\n",
      "\n",
      "\u001b[1m[\u001b[0m\u001b[34;49mnotice\u001b[0m\u001b[1;39;49m]\u001b[0m\u001b[39;49m A new release of pip is available: \u001b[0m\u001b[31;49m24.2\u001b[0m\u001b[39;49m -> \u001b[0m\u001b[32;49m25.0\u001b[0m\n",
      "\u001b[1m[\u001b[0m\u001b[34;49mnotice\u001b[0m\u001b[1;39;49m]\u001b[0m\u001b[39;49m To update, run: \u001b[0m\u001b[32;49m/usr/bin/python3 -m pip install --upgrade pip\u001b[0m\n"
     ]
    }
   ],
   "source": [
    "!pip install numdifftools"
   ]
  },
  {
   "cell_type": "code",
   "execution_count": 231,
   "metadata": {},
   "outputs": [],
   "source": [
    "import numdifftools as nd\n",
    "import numpy as np\n",
    "import scipy.optimize as opt\n",
    "import scipy.stats as stat\n",
    "import matplotlib.pyplot as plt\n",
    "import random\n",
    "import corner"
   ]
  },
  {
   "cell_type": "markdown",
   "metadata": {},
   "source": [
    "### Solution"
   ]
  },
  {
   "cell_type": "code",
   "execution_count": 7,
   "metadata": {},
   "outputs": [],
   "source": [
    "file = np.load(\"../../homeworks/hw_data/hw3_data_1.npy\")"
   ]
  },
  {
   "cell_type": "markdown",
   "metadata": {},
   "source": [
    "From the lectures the formula work out to be:\n",
    "\n",
    "$$\\hat \\mu = \\frac{\\sum_i^N (x_i/\\sigma_i^2)}{\\sum_i^N (1/\\sigma_i^2)},$$\n",
    "\n",
    "and\n",
    "\n",
    "$$\\sigma_{\\mu} = \\left( \\sum_{i=1}^N \\frac{1}{\\sigma_i^2}\\right)^{-1/2}.$$"
   ]
  },
  {
   "cell_type": "code",
   "execution_count": 118,
   "metadata": {},
   "outputs": [
    {
     "name": "stdout",
     "output_type": "stream",
     "text": [
      "4.082099776157917 0.0937975025520293\n"
     ]
    }
   ],
   "source": [
    "#1 Using the equations above, we calculate these values\n",
    "sum1 = 0\n",
    "sum2 = 0\n",
    "for thing in file:\n",
    "    sum1 += thing[0] / thing[1]**2\n",
    "for thing in file:\n",
    "    sum2 += 1 / thing[1]**2\n",
    "\n",
    "mu_hat = sum1 / sum2\n",
    "sigma_mu = (sum2)**-0.5\n",
    "\n",
    "print(mu_hat, sigma_mu)"
   ]
  },
  {
   "cell_type": "markdown",
   "metadata": {},
   "source": [
    "SRT: This could be more compact and pythonic. -2 points"
   ]
  },
  {
   "cell_type": "code",
   "execution_count": null,
   "metadata": {},
   "outputs": [],
   "source": [
    "x = np.load('../hw_data/hw3_data_1.npy')\n",
    "widths = x[:,1]\n",
    "x = x[:,0]\n",
    "\n",
    "mle_mean = np.sum(x / widths**2) / np.sum(1 / widths**2)\n",
    "mle_mean_err = np.sum(1 / widths**2)**(-0.5)\n",
    "\n",
    "print(mle_mean, mle_mean_err)"
   ]
  },
  {
   "cell_type": "markdown",
   "metadata": {},
   "source": [
    "From lecture 5:\n",
    "\n",
    "$$L = \\prod_{i=1}^N \\left( \\frac{1}{\\sigma\\sqrt{2\\pi}} \\right) \\exp\\left( -\\frac{1}{2} \\sum \\left[\\frac{-(x_i-\\mu)}{\\sigma} \\right]^2 \\right).$$\n",
    "\n",
    "for non-similar uncertanties though it should be written as:\n",
    "\n",
    "$$L = \\prod_{i=1}^N \\left( \\frac{1}{\\sigma_i\\sqrt{2\\pi}} \\right) \\exp\\left( -\\frac{1}{2} \\sum \\left[\\frac{-(x_i-\\mu)}{\\sigma_i} \\right]^2 \\right).$$\n",
    "\n",
    "Therefore we can calculate the total likelihood function as:"
   ]
  },
  {
   "cell_type": "code",
   "execution_count": 202,
   "metadata": {},
   "outputs": [],
   "source": [
    "def squared_loss(y,y_fit,dy):\n",
    "    return np.sum(((y - y_fit) / dy) ** 2, -1)"
   ]
  },
  {
   "cell_type": "code",
   "execution_count": 203,
   "metadata": {},
   "outputs": [
    {
     "name": "stdout",
     "output_type": "stream",
     "text": [
      "Optimization terminated successfully.\n",
      "         Current function value: 126.238875\n",
      "         Iterations: 12\n",
      "         Function evaluations: 24\n",
      "[4.08212891]\n"
     ]
    }
   ],
   "source": [
    "#2 Main difference between this and the lecture is that the sigma is not a constant, it changes with each pass\n",
    "f_squared = lambda beta: squared_loss(file[:,0],beta,file[:,1])\n",
    "beta = 4\n",
    "beta_squared = opt.fmin(f_squared, beta)\n",
    "print(beta_squared)"
   ]
  },
  {
   "cell_type": "markdown",
   "metadata": {},
   "source": [
    "SRT: Good! But you have not carried through the Gaussian normalization, which becomes important later in the AIC."
   ]
  },
  {
   "cell_type": "code",
   "execution_count": 228,
   "metadata": {},
   "outputs": [
    {
     "name": "stdout",
     "output_type": "stream",
     "text": [
      "[2.41960698e-96 2.47986508e-96 2.54161229e-96 ... 3.21553578e-88\n",
      " 3.14914992e-88 3.08412059e-88]\n"
     ]
    }
   ],
   "source": [
    "xgrid = np.linspace(3,5,10000)\n",
    "Ls = np.ones((100,10000))\n",
    "for i in range(len(file)):\n",
    "    Ls[i] = stat.norm.pdf(xgrid,loc=file[i,0],scale=file[i,1])\n",
    "LG = np.prod(Ls,axis=0)\n",
    "print(LG)"
   ]
  },
  {
   "cell_type": "code",
   "execution_count": 229,
   "metadata": {},
   "outputs": [
    {
     "name": "stdout",
     "output_type": "stream",
     "text": [
      "Likelihood is maximized at 4.082\n"
     ]
    }
   ],
   "source": [
    "sorted_indices = np.argsort(LG) #Sort L to get the largest index value at the end\n",
    "index_max = sorted_indices[len(sorted_indices)-1] #get that index and store it in a variable\n",
    "print(\"Likelihood is maximized at %.3f\" % xgrid[index_max]) #print out the mean value that is the maximum based on the sort"
   ]
  },
  {
   "cell_type": "code",
   "execution_count": 191,
   "metadata": {},
   "outputs": [
    {
     "name": "stdout",
     "output_type": "stream",
     "text": [
      "Fisher matrix error on estimated mean is 0.094\n"
     ]
    }
   ],
   "source": [
    "#3 \n",
    "sigma_mu = np.diff(np.log(L), n=2)\n",
    "sigma_mu /= (xgrid[1]-xgrid[0])**2\n",
    "sigma_mu *= -1\n",
    "sigma_mu = 1/np.sqrt(sigma_mu)[0]\n",
    "\n",
    "print(\"Fisher matrix error on estimated mean is %.3f\" % sigma_mu)"
   ]
  },
  {
   "cell_type": "markdown",
   "metadata": {},
   "source": [
    "SRT: Good"
   ]
  },
  {
   "cell_type": "code",
   "execution_count": 275,
   "metadata": {},
   "outputs": [],
   "source": [
    "#4 Creating the bootstraps should not take a super long time as long as all of the bootstraps are different sizes\n",
    "bootstraps = np.zeros((2000,50,2))\n",
    "measurements = file[:,0]\n",
    "sigmas = file[:,1]\n",
    "num_boots = 2000\n",
    "for i in range(num_boots):\n",
    "    indicies = np.random.randint(0,100,size=50) # Choose ten random indicies\n",
    "    bootstraps[i,:,0] = measurements[indicies] # get the means\n",
    "    bootstraps[i,:,1] = sigmas[indicies] # get the sigmas"
   ]
  },
  {
   "cell_type": "markdown",
   "metadata": {},
   "source": [
    "SRT: Why is each bootstrap realization only half the size of the dataset? -2 points\n",
    "\n",
    "No timing information? -2 points"
   ]
  },
  {
   "cell_type": "code",
   "execution_count": 254,
   "metadata": {},
   "outputs": [],
   "source": [
    "#5 Calculate the different means from the bootstrap\n",
    "means = np.array([])\n",
    "for data in bootstraps:\n",
    "    f_squared = lambda beta: squared_loss(data[:,0],beta,data[:,1])\n",
    "    beta = 1\n",
    "    beta_squared = opt.fmin(f_squared, beta, disp=False)\n",
    "    means = np.append(means,beta_squared)"
   ]
  },
  {
   "cell_type": "markdown",
   "metadata": {},
   "source": [
    "SRT: No timing information? -1 point"
   ]
  },
  {
   "cell_type": "code",
   "execution_count": 255,
   "metadata": {},
   "outputs": [
    {
     "data": {
      "image/png": "[encoded data removed]",
      "text/plain": [
       "<Figure size 640x480 with 1 Axes>"
      ]
     },
     "metadata": {},
     "output_type": "display_data"
    }
   ],
   "source": [
    "#plot the means as a histogram and plot the true distribution over that\n",
    "xgrid = np.linspace(0,10,1000)\n",
    "plt.hist(means,density=True)\n",
    "plt.plot(xgrid,stat.norm(loc=mu_hat,scale=sigma_mu).pdf(xgrid))\n",
    "plt.show()"
   ]
  },
  {
   "cell_type": "markdown",
   "metadata": {},
   "source": [
    "SRT: Your boostrap histogram looks wider because each bootstrap realization was only half the size of the original dataset. No commentary on this? -2 points"
   ]
  },
  {
   "attachments": {},
   "cell_type": "markdown",
   "metadata": {},
   "source": [
    "Laplace distribution looks like this:"
   ]
  },
  {
   "attachments": {
    "754af3a0-a274-47eb-9109-f9f98a2c881b.png": {
     "image/png": "[encoded data removed]"
    }
   },
   "cell_type": "markdown",
   "metadata": {},
   "source": [
    "![Screenshot 2025-02-01 200325.png](attachment:754af3a0-a274-47eb-9109-f9f98a2c881b.png)"
   ]
  },
  {
   "cell_type": "markdown",
   "metadata": {},
   "source": [
    "and from the helpful link Harrison posted (https://math.stackexchange.com/questions/2243898/maximum-likelihood-estimator-of-laplace-distribution) I was able to get:"
   ]
  },
  {
   "cell_type": "markdown",
   "metadata": {},
   "source": [
    "I cannot for the life of me get the minimizing function for the laplacian and its too late to be working, this is my best guess after using just y-yfit abs to get the best results. All other code would be able to work minus the final question if this function could be found"
   ]
  },
  {
   "cell_type": "code",
   "execution_count": 308,
   "metadata": {},
   "outputs": [
    {
     "name": "stdout",
     "output_type": "stream",
     "text": [
      "[1.16661145e+00 2.96355297e-30]\n"
     ]
    },
    {
     "name": "stderr",
     "output_type": "stream",
     "text": [
      "/tmp/ipykernel_2453/2724824004.py:2: RuntimeWarning: invalid value encountered in log\n",
      "  return -N * np.log(2*dy) - np.sum((abs(y - y_fit))/dy)\n"
     ]
    }
   ],
   "source": [
    "def squared_loss_L(y,y_fit,dy,N):\n",
    "    return -N * np.log(2*dy) - np.sum((abs(y - y_fit))/dy)\n",
    "\n",
    "f_squared = lambda gamma: squared_loss_L(file[:,0],gamma[0],gamma[1],len(file))\n",
    "beta0 = (1,1)\n",
    "beta_squared = opt.fmin(f_squared, beta0, disp=False)\n",
    "print(beta_squared)"
   ]
  },
  {
   "cell_type": "markdown",
   "metadata": {},
   "source": [
    "SRT: Correct definition, but since you are minimizing a function, you need to feed in the negative of the log likelihood. You have supplied the log likelihood itself. -2 points"
   ]
  },
  {
   "cell_type": "markdown",
   "metadata": {},
   "source": [
    "ACM is given "
   ]
  },
  {
   "cell_type": "code",
   "execution_count": 306,
   "metadata": {},
   "outputs": [
    {
     "name": "stdout",
     "output_type": "stream",
     "text": [
      "normal:  309.27790931725275\n",
      "Laplace:  322.44136743112495\n"
     ]
    }
   ],
   "source": [
    "#7 Compute the maximum likelihoods by hand and then calculate the AICs and see which is greater\n",
    "xgrid = np.linspace(3,5,10000)\n",
    "Ls = np.ones((100,10000))\n",
    "for i in range(len(file)):\n",
    "    Ls[i] = stat.laplace.pdf(xgrid,loc=file[i,0],scale=file[i,1])\n",
    "LL = np.prod(Ls,axis=0)\n",
    "\n",
    "sorted_indices = np.argsort(LL) #Sort L to get the largest index value at the end\n",
    "index_max = sorted_indices[len(sorted_indices)-1] #get that index and store it in a variable\n",
    "\n",
    "k=2\n",
    "N=100\n",
    "\n",
    "AIC_L = -2 * np.log(LL[index_max]) + 2 * k + (2*k*(k+1))/(N-k-1)\n",
    "\n",
    "k=1\n",
    "sorted_indices = np.argsort(LG) #Sort L to get the largest index value at the end\n",
    "index_max = sorted_indices[len(sorted_indices)-1] #get that index and store it in a variable\n",
    "\n",
    "AIC_G = -2 * np.log(LG[index_max]) + 2 * k + (2*k*(k+1))/(N-k-1)\n",
    "\n",
    "print(\"normal: \",AIC_G)\n",
    "print(\"Laplace: \",AIC_L)"
   ]
  },
  {
   "cell_type": "markdown",
   "metadata": {},
   "source": [
    "SRT: This is correct! So why didn't you just use the `scipy.stats.laplace.logpdf` functionality to fit the parameters against the data?"
   ]
  },
  {
   "cell_type": "markdown",
   "metadata": {},
   "source": [
    "Therefore the normal fits the data better"
   ]
  },
  {
   "cell_type": "code",
   "execution_count": 294,
   "metadata": {},
   "outputs": [],
   "source": [
    "#8 Grab the two different parameter fits and then make a corner plot\n",
    "samples = np.zeros((2000,2))\n",
    "for i in range(len(bootstraps)):\n",
    "    f_squared = lambda gamma: squared_loss_L(bootstraps[i,:,0],gamma[0],gamma[1],len(bootstraps[i]))\n",
    "    beta0 = (4,0.06)\n",
    "    beta_squared = opt.fmin(squared_loss_L, beta0,disp=False)\n",
    "    samples[i][0] = beta_squared[0]\n",
    "    samples[i][1] = beta_squared[1]"
   ]
  },
  {
   "cell_type": "code",
   "execution_count": 295,
   "metadata": {},
   "outputs": [
    {
     "name": "stderr",
     "output_type": "stream",
     "text": [
      "WARNING:root:Too few points to create valid contours\n"
     ]
    },
    {
     "data": {
      "image/png": "[encoded data removed]",
      "text/plain": [
       "<Figure size 550x550 with 4 Axes>"
      ]
     },
     "metadata": {},
     "output_type": "display_data"
    }
   ],
   "source": [
    "figure = corner.corner(samples,labels=[\"x\",\"y\"])"
   ]
  },
  {
   "cell_type": "markdown",
   "metadata": {},
   "source": [
    "SRT: Correct procedure, with wrong-sign log likelihood. Incorrect labels on the parameters, and no attempt to include credible regions. -2 points"
   ]
  },
  {
   "cell_type": "code",
   "execution_count": null,
   "metadata": {},
   "outputs": [],
   "source": [
    "H = nd.Hessian(f_lnlaplace)([beta_laplace[0], beta_laplace[1]])\n",
    "sigma_laplace = np.linalg.inv(H)**0.5"
   ]
  },
  {
   "cell_type": "markdown",
   "metadata": {},
   "source": [
    "SRT: Part 9 not attempted. -4 points"
   ]
  },
  {
   "cell_type": "markdown",
   "metadata": {},
   "source": [
    "SRT: 33/50"
   ]
  },
  {
   "cell_type": "markdown",
   "metadata": {},
   "source": []
  }
 ],
 "metadata": {
  "anaconda-cloud": {},
  "kernelspec": {
   "display_name": "Python [conda env:base] *",
   "language": "python",
   "name": "conda-base-py"
  },
  "language_info": {
   "codemirror_mode": {
    "name": "ipython",
    "version": 3
   },
   "file_extension": ".py",
   "mimetype": "text/x-python",
   "name": "python",
   "nbconvert_exporter": "python",
   "pygments_lexer": "ipython3",
   "version": "3.12.8"
  }
 },
 "nbformat": 4,
 "nbformat_minor": 4
}
