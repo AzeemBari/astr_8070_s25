{
 "cells": [
  {
   "cell_type": "markdown",
   "metadata": {},
   "source": [
    "### ASTR 3970 / 8070: Astrostatistics\n",
    "***S. R. Taylor***\n",
    "___\n",
    "\n",
    "# Homework 3\n",
    "### Due: Saturday, Feb 1st at 11.59pm CST\n",
    "---"
   ]
  },
  {
   "cell_type": "markdown",
   "metadata": {},
   "source": [
    "## Only one problem this week\n",
    "\n",
    "This problem uses a dataset in `/coursework/homeworks/hw_data/`.\n",
    "\n",
    "1) Read in `hw3_data_1.npy`. This is a (100 x 2) numpy array, with measurements in the first column and uncertainties in the second column. Using the analytic results for heteroscedastic Gaussian data from lectures, compute the sample mean and the standard error on the sample mean from for this data.\n",
    "\n",
    "2) Reusing some approaches and tools from `Lecture_6`, write a ln-likelihood function for heteroscedastic Gaussian data, and use it in a fitting algorithm to find the best-fit mean. *Remember that scipy optimizers are set up to minimize functions.*\n",
    "\n",
    "3) Using the same numerical technique from `Lecture_5`, compute the Fisher uncertainty estimate on the mean.\n",
    "\n",
    "4) Using the bootstrap method, generate $2000$ bootstrap realizations of this dataset. Using an appropriate timing function in python, how long did the generation of these realizations take? \n",
    "*DO NOT use the `astroML` code. Write your own bootstrap function from scratch. Also recall that when resampling data, measurements and uncertainties should stay paired together. This code will be graded on efficiency and speed; it should not take more than 1 second to execute.*\n",
    "\n",
    "5) Repeat (2) with all $2000$ boostrap datasets to find the distribution of the sample mean. How long did this take? Plot a normalized histogram of these bootstrap means, and overplot a Gaussian pdf with the mean and std found in (1). Do these agree?\n",
    "\n",
    "6) While we have fitted a heteroscedastic Gaussian to this data, let's try something else. Write some code to define a ln-likelihood for a Laplace distribution evaluated on this data. Fit simultaneously for the Laplace location parameter $\\mu$ and scale parameter $\\Delta$.\n",
    "\n",
    "7) Compute the AIC values for the heteroscedastic Gaussian model and the Laplacian model. Which model is favored by the data?\n",
    "\n",
    "8) Using the $2000$ bootstrap datasets from before, fit for the Laplacian $\\mu$ and $\\Delta$ for each. Make a nice `corner` plot of the distributions of $\\mu$ and $\\Delta$ that shows both the marginal $1$D distributions and the joint $2$D distribution. Make sure the plot has labels, shows the titles on each $1$D marginal panel, and has $68\\%$ and $95\\%$ levels.\n",
    "\n",
    "9) Let's finish with a Fisher uncertainty estimate of the Laplacian parameters. Use the following code to install `numdifftools` which provides a simple way to compute derivatives. We can then compute the Hessian matrix, which is the matrix of the second derivatives of the user's function. This should be computed at the best-fit Laplacian parameters $\\mu$ and $\\Delta$. To finish, invert the matrix, and then take the square root. The diagonal entries will then be the Fisher uncertainties on $\\mu$ and $\\Delta$. How does these compare to the bootstrap distribution widths found in (8)?"
   ]
  },
  {
   "cell_type": "markdown",
   "metadata": {},
   "source": [
    "Installing numdifftools here to start:"
   ]
  },
  {
   "cell_type": "code",
   "execution_count": 158,
   "metadata": {},
   "outputs": [
    {
     "name": "stdout",
     "output_type": "stream",
     "text": [
      "Requirement already satisfied: numdifftools in /Users/blakeghg/miniconda3/envs/astr8070/lib/python3.13/site-packages (0.9.41)\n",
      "Requirement already satisfied: numpy>=1.9 in /Users/blakeghg/miniconda3/envs/astr8070/lib/python3.13/site-packages (from numdifftools) (2.1.3)\n",
      "Requirement already satisfied: scipy>=0.8 in /Users/blakeghg/miniconda3/envs/astr8070/lib/python3.13/site-packages (from numdifftools) (1.14.1)\n"
     ]
    }
   ],
   "source": [
    "!pip install numdifftools"
   ]
  },
  {
   "cell_type": "markdown",
   "metadata": {},
   "source": [
    "### <font color='green'>**PART ONE!**</font>\n",
    "\n",
    "1) Read in `hw3_data_1.npy`. This is a (100 x 2) numpy array, with measurements in the first column and uncertainties in the second column. Using the analytic results for heteroscedastic Gaussian data from lectures, compute the sample mean and the standard error on the sample mean from for this data."
   ]
  },
  {
   "cell_type": "code",
   "execution_count": 159,
   "metadata": {},
   "outputs": [],
   "source": [
    "import numpy as np # Very convenient!\n",
    "\n",
    "data = np.load(\"hw3_data_1.npy\") # Loading the dataset\n",
    "\n",
    "measurements = data[:, 0]  # First column is measurements\n",
    "uncertainties = data[:, 1]  # Second column is uncertainties"
   ]
  },
  {
   "cell_type": "markdown",
   "metadata": {},
   "source": [
    "The heteroscedastic mean takes the form:\n",
    "\n",
    "$$\\hat{\\mu} = \\frac{\\sum_i^N(\\frac{x_i}{\\sigma_i^2})}{\\sum_i^N(\\frac{1}{\\sigma_i^2})}$$\n",
    "\n",
    "So, we compute it like this:\n"
   ]
  },
  {
   "cell_type": "code",
   "execution_count": 160,
   "metadata": {},
   "outputs": [
    {
     "name": "stdout",
     "output_type": "stream",
     "text": [
      "The heteroscedastic weighted mean is: 4.082099776157916\n"
     ]
    }
   ],
   "source": [
    "weights = 1 / (uncertainties ** 2) # Weights to apply to these things\n",
    "\n",
    "hetero_mean = np.sum(weights * measurements) / np.sum(weights) # Weighted heteroscedastic mean\n",
    "\n",
    "print(\"The heteroscedastic weighted mean is:\", hetero_mean)"
   ]
  },
  {
   "cell_type": "markdown",
   "metadata": {},
   "source": [
    "The heteroscedastic standard error takes the form:\n",
    "\n",
    "$$\\sigma_{\\hat{\\mu}}=\\left[\\sum_i^N\\left(\\frac{1}{\\sigma_i^2}\\right)\\right]^{-\\frac{1}{2}}$$\n",
    "\n",
    "Now, we compute it like this:"
   ]
  },
  {
   "cell_type": "code",
   "execution_count": 161,
   "metadata": {},
   "outputs": [
    {
     "name": "stdout",
     "output_type": "stream",
     "text": [
      "The heteroscedastic standard error is: 0.0937975025520293\n"
     ]
    }
   ],
   "source": [
    "hetero_standard_error = (np.sum(weights)) ** (-1/2) # Heteroscedastic standard error\n",
    "\n",
    "print(\"The heteroscedastic standard error is:\", hetero_standard_error)"
   ]
  },
  {
   "cell_type": "markdown",
   "metadata": {},
   "source": [
    "### <font color='green'>**PART TWO!**</font>\n",
    "2) Reusing some approaches and tools from `Lecture_5`, write a ln-likelihood function for heteroscedastic Gaussian data, and use it in a fitting algorithm to find the best-fit mean. *Remember that scipy optimizers are set up to minimize functions.*"
   ]
  },
  {
   "cell_type": "code",
   "execution_count": 162,
   "metadata": {},
   "outputs": [],
   "source": [
    "# Nice things to import\n",
    "import scipy.stats\n",
    "from scipy.stats import norm\n",
    "from scipy.stats import uniform\n",
    "from scipy import optimize\n",
    "from astroML import stats as astroMLstats\n",
    "import matplotlib.pyplot as plt"
   ]
  },
  {
   "cell_type": "markdown",
   "metadata": {},
   "source": [
    "Here, we construct the log likelihood function from lecture, construct the same lambda function, and then compute the maximum likelihood with an initial guess of 2.5."
   ]
  },
  {
   "cell_type": "code",
   "execution_count": 163,
   "metadata": {},
   "outputs": [
    {
     "name": "stdout",
     "output_type": "stream",
     "text": [
      "Optimization terminated successfully.\n",
      "         Current function value: -8.845706\n",
      "         Iterations: 17\n",
      "         Function evaluations: 34\n",
      "The MLE for the Gaussian distribution is: [4.08209229]\n"
     ]
    }
   ],
   "source": [
    "# Redefining data usefully:\n",
    "x = np.linspace(0, 5, 100)\n",
    "y = measurements\n",
    "dy = uncertainties\n",
    "\n",
    "# Defining the standard squared-loss function.\n",
    "def log_likelihood(mu, x, dx):\n",
    "    return np.sum(((x - mu) / (2 * dx)) ** 2 - (1 / np.sqrt(2 * np.pi * dx))) \n",
    "    # Note the constant/main term comes from applying ln to the product\n",
    "\n",
    "# Defining a lambda function that defines the sum of squared errors. \n",
    "f_squared = lambda beta: log_likelihood(beta[0], x=measurements, dx=uncertainties)\n",
    "\n",
    "# Computing the maximum likelihood \n",
    "beta0 = (2.5) # Why not? A good and silly guess :))) \n",
    "beta_squared = optimize.fmin(f_squared, beta0)\n",
    "\n",
    "# Final answer:\n",
    "print(\"The MLE for the Gaussian distribution is:\", beta_squared)"
   ]
  },
  {
   "cell_type": "markdown",
   "metadata": {},
   "source": [
    "Thus, our MLE of the Gaussian's mean is 4.08209229."
   ]
  },
  {
   "cell_type": "markdown",
   "metadata": {},
   "source": [
    "### <font color='green'>**PART THREE!**</font>\n",
    "3) Using the same numerical technique from `Lecture_5`, compute the Fisher uncertainty estimate on the mean.\n",
    "\n",
    "Different from the original heteroscedastic standard error, we stick the log likelihood into the Hessian function from the numdifftools and compute the Fisher matrix error by applying the following operation: \n",
    "\n",
    "$$\\sigma_{\\mu} = \\left( - \\frac{\\partial^2\\ln L(\\mu)}{\\partial\\mu^2}\\Biggr\\rvert_{\\hat \\mu}\\right)^{-1/2}$$\n"
   ]
  },
  {
   "cell_type": "code",
   "execution_count": 164,
   "metadata": {},
   "outputs": [
    {
     "name": "stdout",
     "output_type": "stream",
     "text": [
      "The Fisher matrix error is: 0.13264970022580472\n"
     ]
    }
   ],
   "source": [
    "# More shit that we need (numdifftools)\n",
    "import numdifftools as nd\n",
    "\n",
    "# Defining the inverse log likelihood (negative sign lol)\n",
    "def inv_log_likelihood(mu, x, dx):\n",
    "    return -np.sum(((x - mu) / (2 * dx)) ** 2)\n",
    "\n",
    "# Computing the Fisher matrix error!\n",
    "H = nd.Hessian(inv_log_likelihood)(beta_squared, measurements, uncertainties)\n",
    "sigmaHet = (-H[0][0])**(-0.5)\n",
    "\n",
    "# The print out in question\n",
    "print(\"The Fisher matrix error is:\", sigmaHet)"
   ]
  },
  {
   "cell_type": "markdown",
   "metadata": {},
   "source": [
    "SRT: Fair enough. I would've expected numdifftools to get closer to the analytic estimate. However, this is also not the method referred to in Lecture 5, which was a finite difference estimate of the second derivative on  a grid of parameter values. -1 point"
   ]
  },
  {
   "cell_type": "markdown",
   "metadata": {},
   "source": [
    "### <font color='green'>**PART FOUR!**</font>\n",
    "4) Using the bootstrap method, generate $2000$ bootstrap realizations of this dataset. Using an appropriate timing function in python, how long did the generation of these realizations take? \n",
    "*DO NOT use the `astroML` code. Write your own bootstrap function from scratch. Also recall that when resampling data, measurements and uncertainties should stay paired together. This code will be graded on efficiency and speed; it should not take more than 1 second to execute.*"
   ]
  },
  {
   "cell_type": "markdown",
   "metadata": {},
   "source": [
    "Here, I randomly select integers from 0 to n (100 for this dataset) and stick them into an array of size n times the number of samples taken (2000). We then use that array on the data to pull out all the bootstrap realizations of the data:"
   ]
  },
  {
   "cell_type": "code",
   "execution_count": 165,
   "metadata": {},
   "outputs": [
    {
     "name": "stdout",
     "output_type": "stream",
     "text": [
      "It took 0.004905374997179024 seconds to generate the bootstrap samples.\n",
      "Bootstrap samples shape: (2000, 100, 2)\n"
     ]
    }
   ],
   "source": [
    "# Useful imports\n",
    "import numpy as np\n",
    "import time\n",
    "\n",
    "# Creation of the bootstrap function\n",
    "def bootstrap(data, num_samples):\n",
    "    start_time = time.perf_counter() # Start time\n",
    "    n = len(data)  # Number of data points (100)\n",
    "    indices = np.random.randint(0, n, size=(num_samples, n)) # num_samples (2000) by n (100) array of indices\n",
    "    bootstrap_samples = data[indices] # Using indices to select bootstrap samples\n",
    "    elapsed_time = time.perf_counter() - start_time # Final time\n",
    "    return bootstrap_samples, elapsed_time\n",
    "\n",
    "# Generate 2000 bootstrap samples\n",
    "bootstrap_samples, time_passed = bootstrap(data, 2000)\n",
    "\n",
    "# Check the shape: It should be (2000, 100, 2)\n",
    "print(\"It took\", time_passed, \"seconds to generate the bootstrap samples.\")\n",
    "print(\"Bootstrap samples shape:\", bootstrap_samples.shape)"
   ]
  },
  {
   "cell_type": "markdown",
   "metadata": {},
   "source": [
    "### <font color='green'>**PART FIVE!**</font>\n",
    "\n",
    "5) Repeat (2) with all $2000$ boostrap datasets to find the distribution of the sample mean. How long did this take? Plot a normalized histogram of these bootstrap means, and overplot a Gaussian pdf with the mean and std found in (1). Do these agree?\n"
   ]
  },
  {
   "cell_type": "code",
   "execution_count": 166,
   "metadata": {},
   "outputs": [
    {
     "name": "stdout",
     "output_type": "stream",
     "text": [
      "The time it took to find the distributio of the sample mean is (in seconds): 0.6411551250057528\n"
     ]
    },
    {
     "data": {
      "image/png": "[encoded data removed]",
      "text/plain": [
       "<Figure size 800x600 with 1 Axes>"
      ]
     },
     "metadata": {},
     "output_type": "display_data"
    }
   ],
   "source": [
    "# Running Part 2 on each bootstrap in the sample:\n",
    "\n",
    "start_time = time.perf_counter() # Start time\n",
    "bootstrapped_means = [] # Defining the list of bootstrapped means\n",
    "\n",
    "# Collecting all the means!\n",
    "for sample in bootstrap_samples: \n",
    "    x = sample[:, 0]  # First column is measurements\n",
    "    dx = sample[:, 1]  # Second column is uncertainties\n",
    "    bootstrap_lnlikelihood = lambda beta: log_likelihood(beta[0], x, dx) # Doing the log likelihood here\n",
    "    beta0 = x[0]\n",
    "    beta_squared = optimize.fmin(bootstrap_lnlikelihood, beta0, disp=False) # Optimization\n",
    "    bootstrapped_means.append(beta_squared[0])\n",
    "\n",
    "elapsed_time = time.perf_counter() - start_time # The elapsed time\n",
    "print(\"The time it took to find the distributio of the sample mean is (in seconds):\", elapsed_time)\n",
    "\n",
    "bootstrapped_means_array = np.array(bootstrapped_means) # I am so sorry at how gross this is please forgive me\n",
    "\n",
    "# Plotting the damn thing!!\n",
    "plt.figure(figsize=(8, 6))\n",
    "count, bins, _ = plt.hist(bootstrapped_means_array, bins=30, density=True, alpha=0.6, color='green', label=\"Bootstrap Means\")\n",
    "x = np.linspace(bins[0], bins[-1], 100)\n",
    "pdf = norm.pdf(x, loc=hetero_mean, scale=hetero_standard_error)\n",
    "plt.plot(x, pdf, 'r--', linewidth=2, label=\"Gaussian PDF\")\n",
    "\n",
    "# Some clarifying labels\n",
    "plt.xlabel(\"Sample Means\")\n",
    "plt.ylabel(\"(Normalized) Frequency\")\n",
    "plt.title(\"Bootstrapping the Sample Means Together\")\n",
    "plt.legend()\n",
    "plt.show()\n"
   ]
  },
  {
   "cell_type": "markdown",
   "metadata": {},
   "source": [
    "SRT: Excellent!"
   ]
  },
  {
   "cell_type": "markdown",
   "metadata": {},
   "source": [
    "### <font color='green'>**PART SIX!**</font>\n",
    "\n",
    "6) While we have fitted a heteroscedastic Gaussian to this data, let's try something else. Write some code to define a ln-likelihood for a Laplace distribution evaluated on this data. Fit simultaneously for the Laplace location parameter $\\mu$ and scale parameter $\\Delta$."
   ]
  },
  {
   "cell_type": "markdown",
   "metadata": {},
   "source": [
    "To construct the Laplacian log likelihood function, we can move through a similar process depicted for Gaussians and Poisson distributions, where we stick the distribution into the log likelihood repeated multiplication, and then apply a logarithm.\n",
    "\n",
    "The Laplacian distribution takes the form:\n",
    "\n",
    "$$p(x_i|\\mu,\\Delta)=\\frac{1}{2\\Delta}e^{-\\frac{|x-\\mu|}{\\Delta}}$$\n",
    "\n",
    "Where $\\mu$ is the location parameter and $\\delta$ is the scale parameter. The likelihood will be:\n",
    "\n",
    "$$L \\equiv p(\\{x_i\\}|\\mu,\\Delta) = \\prod_{i=1}^{N} \\frac{1}{2\\Delta}e^{-\\frac{|x-\\mu|}{\\Delta}}$$\n",
    "\n",
    "Now, we take the log to get the log likelihood:\n",
    "\n",
    "$$ln L \\equiv p(\\{x_i\\}|\\mu,\\Delta) = N\\ln(1)-\\sum_{i=1}^N\\left[\\frac{|x-\\mu|}{\\Delta}-\\ln(2\\Delta)\\right]$$"
   ]
  },
  {
   "cell_type": "code",
   "execution_count": 167,
   "metadata": {},
   "outputs": [
    {
     "name": "stdout",
     "output_type": "stream",
     "text": [
      "Optimization terminated successfully.\n",
      "         Current function value: 161.631942\n",
      "         Iterations: 52\n",
      "         Function evaluations: 96\n",
      "The MLE for the Laplacian distribution is (mean, uncertainty): [4.08983788 0.92604872]\n"
     ]
    }
   ],
   "source": [
    "# Importing laplace function\n",
    "from scipy.stats import laplace\n",
    "\n",
    "# Redefining data usefully:\n",
    "x = measurements\n",
    "dx = uncertainties\n",
    "\n",
    "# Defining the standard squared-loss function for the Laplacian.\n",
    "def laplace_log_likelihood(mu, x, dx):\n",
    "    return -1 * np.sum(laplace.logpdf(x, loc=mu, scale=dx))\n",
    "\n",
    "# Defining a lambda function that defines the sum of squared errors. \n",
    "f_lnlaplace = lambda beta: laplace_log_likelihood(mu=beta[0], x=measurements, dx=beta[1])\n",
    "\n",
    "# Computing the maximum likelihood \n",
    "beta0 = (3, 0.1) # Why not? A good and silly guess :)))\n",
    "beta_laplace = optimize.fmin(f_lnlaplace, beta0)\n",
    "\n",
    "# Final answer:\n",
    "print(\"The MLE for the Laplacian distribution is (mean, uncertainty):\", beta_laplace)"
   ]
  },
  {
   "cell_type": "markdown",
   "metadata": {},
   "source": [
    "### <font color='green'>**PART SEVEN!**</font>\n",
    "7) Compute the AIC values for the heteroscedastic Gaussian model and the Laplacian model. Which model is favored by the data?\n",
    "\n",
    "From the lectures, the **Akaike Information Criterion** (AIC) is depicted as so:\n",
    "\n",
    "$$ \\mathrm{AIC}_M \\equiv -2\\ln[L^0(M)] + 2k + \\frac{2k(k+1)}{N-k-1}, $$\n",
    "\n",
    "where $k$ is the number of model parameters and $N$ is the number of data points. The first term is the ln-likelohood multiplied by -2, and the others are described by k meaning parameters and N meaning total data points (helped from https://www.sciencedirect.com/topics/pharmacology-toxicology-and-pharmaceutical-science/akaike-information-criterion#:~:text=Akaike's%20Information%20Criterion%20(AIC)%20can,the%20number%20of%20model%20estimated)\n",
    "\n",
    "Below, we can calculate the AIC values for both models as so:"
   ]
  },
  {
   "cell_type": "code",
   "execution_count": 171,
   "metadata": {},
   "outputs": [
    {
     "name": "stdout",
     "output_type": "stream",
     "text": [
      "The AIC for the Gaussian distribution is: -6.462517067083221 while the AIC for the Laplacian distribution is: -4.055964424593821\n"
     ]
    }
   ],
   "source": [
    "# For both:\n",
    "N_value = 100 # Length of the data\n",
    "\n",
    "# For the Gaussian:\n",
    "log_likelihood_gaussian = beta_squared[0] # Picking up from the Gaussian MLE from above\n",
    "k_value_gaussian = 1 # Location and scale parameters\n",
    "\n",
    "# For the Laplacian:\n",
    "log_likelihood_laplacian = beta_laplace[0] # Picking up from the Laplacian MLE from above\n",
    "k_value_laplacian = 2 # Location and scale parameters\n",
    "\n",
    "# AIC function\n",
    "def AIC(log_likelihood, k, N):\n",
    "    return (2 * k) - (2 * log_likelihood) + ((2 * k * (k + 1)) / (N - k - 1))\n",
    "\n",
    "# Final answers:\n",
    "print(\"The AIC for the Gaussian distribution is:\", AIC(log_likelihood_gaussian, k_value_gaussian, N_value), \"while the AIC for the Laplacian distribution is:\", AIC(log_likelihood_laplacian, k_value_laplacian, N_value))"
   ]
  },
  {
   "cell_type": "markdown",
   "metadata": {},
   "source": [
    "SRT: Correct answer, but you forgot that the output of the optimization function is the negative log likelihood. So you need to negative it again to get back the actual log likelihood. -2 points"
   ]
  },
  {
   "cell_type": "markdown",
   "metadata": {},
   "source": [
    "Thus, this means that the AIC proves the Gaussian distribution fits the data better!"
   ]
  },
  {
   "cell_type": "markdown",
   "metadata": {},
   "source": [
    "### <font color='green'>**PART EIGHT!**</font>\n",
    "\n",
    "8) Using the $2000$ bootstrap datasets from before, fit for the Laplacian $\\mu$ and $\\Delta$ for each. Make a nice `corner` plot of the distributions of $\\mu$ and $\\Delta$ that shows both the marginal $1$D distributions and the joint $2$D distribution. Make sure the plot has labels, shows the titles on each $1$D marginal panel, and has $68\\%$ and $95\\%$ levels."
   ]
  },
  {
   "cell_type": "code",
   "execution_count": 169,
   "metadata": {},
   "outputs": [
    {
     "name": "stdout",
     "output_type": "stream",
     "text": [
      "(2000, 2)\n"
     ]
    },
    {
     "data": {
      "image/png": "[encoded data removed]",
      "text/plain": [
       "<Figure size 550x550 with 4 Axes>"
      ]
     },
     "metadata": {},
     "output_type": "display_data"
    }
   ],
   "source": [
    "# A VERY useful import\n",
    "import corner\n",
    "\n",
    "bootstrapped_laplacian_means = [] # Defining the list of bootstrapped laplacian means\n",
    "bootstrapped_laplacian_uncertainties = [] # Defining the list of bootstrapped laplacian uncertainties\n",
    "\n",
    "# Collecting all the means and uncertainties!\n",
    "for sample in bootstrap_samples: \n",
    "    x = sample[:, 0]  # First column is measurements\n",
    "    dx = sample[:, 1]  # Second column is uncertainties\n",
    "    bootstrap_laplace_lnlikelihood = lambda beta: laplace_log_likelihood(beta[0], x, dx) # Doing the laplacianlog likelihood here\n",
    "    beta0 = (x[0], dx[0]) # TWO guesses to spit out TWO values\n",
    "    beta_squared = optimize.fmin(bootstrap_lnlikelihood, beta0, disp=False) # Optimization\n",
    "    bootstrapped_laplacian_means.append(beta_squared[0]) \n",
    "    bootstrapped_laplacian_uncertainties.append(beta_squared[1])\n",
    "\n",
    "# A bunch of data management (don't look it's ugly)\n",
    "bootstrapped_laplacian_means_array = np.array(bootstrapped_laplacian_means) # Doing this again\n",
    "bootstrapped_laplacian_uncertainties_array = np.array(bootstrapped_laplacian_uncertainties) # Lmao\n",
    "bootstrapped_laplacian_data = np.vstack((bootstrapped_laplacian_means_array, bootstrapped_laplacian_uncertainties_array)) # For ease of corner plotting\n",
    "bootstrapped_final_data = bootstrapped_laplacian_data.transpose() # Going from the wrong to the right shape\n",
    "print(bootstrapped_final_data.shape)\n",
    "\n",
    "# Plotting the damn thing!!\n",
    "figure = corner.corner(bootstrapped_final_data, labels=[\"Means\", \"Uncertainties\"])\n",
    "plt.title(\"Combined Mean/Uncertainty Corner Plot\", x=-0.2, y=2.1)\n",
    "plt.show()"
   ]
  },
  {
   "cell_type": "markdown",
   "metadata": {},
   "source": [
    "SRT: Titles on each 1D marginal panel? Correct parameter labels, ie.., mu and delta? -2 points"
   ]
  },
  {
   "cell_type": "markdown",
   "metadata": {},
   "source": [
    "### <font color='green'>**PART NINE!**</font>\n",
    "9) Let's finish with a Fisher uncertainty estimate of the Laplacian parameters. Use the following code to install `numdifftools` which provides a simple way to compute derivatives. We can then compute the Hessian matrix, which is the matrix of the second derivatives of the user's function. This should be computed at the best-fit Laplacian parameters $\\mu$ and $\\Delta$. To finish, invert the matrix, and then take the square root. The diagonal entries will then be the Fisher uncertainties on $\\mu$ and $\\Delta$. How does these compare to the bootstrap distribution widths found in (8)?"
   ]
  },
  {
   "cell_type": "code",
   "execution_count": 170,
   "metadata": {},
   "outputs": [
    {
     "name": "stdout",
     "output_type": "stream",
     "text": [
      "The Fisher matrix error is: 0.1168162045737626\n"
     ]
    }
   ],
   "source": [
    "# Defining the inverse log likelihood (negative sign lol)\n",
    "def inv_log_likelihood_laplace(mu, x, dx):\n",
    "    return np.sum(laplace.logpdf(x, loc=mu, scale=dx))\n",
    "\n",
    "# Computing the Fisher matrix error!\n",
    "H = nd.Hessian(inv_log_likelihood_laplace)(log_likelihood_laplacian, measurements, uncertainties)\n",
    "sigmaHetLaplace = (-H[0][0])**(-0.5)\n",
    "\n",
    "# The print out in question\n",
    "print(\"The Fisher matrix error is:\", sigmaHetLaplace)"
   ]
  },
  {
   "cell_type": "markdown",
   "metadata": {},
   "source": [
    "SRT: No, you needed to put in the best-fit mu and delta values from above, not assume that the delta was equal to the data uncertainties. You should get two uncertainties from this calculation, one for each Laplacian parameter. -3 points"
   ]
  },
  {
   "cell_type": "markdown",
   "metadata": {},
   "source": [
    "The Fisher matrix error for the Laplacian actually fit the blob on the central corner plot quite closely! Incredibly promising :)"
   ]
  },
  {
   "cell_type": "markdown",
   "metadata": {},
   "source": [
    "# <font color='green'>**END!**</font>"
   ]
  }
 ],
 "metadata": {
  "anaconda-cloud": {},
  "kernelspec": {
   "display_name": "astr8070",
   "language": "python",
   "name": "python3"
  },
  "language_info": {
   "codemirror_mode": {
    "name": "ipython",
    "version": 3
   },
   "file_extension": ".py",
   "mimetype": "text/x-python",
   "name": "python",
   "nbconvert_exporter": "python",
   "pygments_lexer": "ipython3",
   "version": "3.10.12"
  }
 },
 "nbformat": 4,
 "nbformat_minor": 2
}
