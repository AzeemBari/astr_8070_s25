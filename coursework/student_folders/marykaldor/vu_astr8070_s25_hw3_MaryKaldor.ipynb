{
 "cells": [
  {
   "cell_type": "markdown",
   "metadata": {},
   "source": [
    "### ASTR 3970 / 8070: Astrostatistics\n",
    "***S. R. Taylor***\n",
    "___\n",
    "\n",
    "# Homework 3\n",
    "### Due: Saturday, Feb 1st at 11.59pm CST\n",
    "---"
   ]
  },
  {
   "cell_type": "markdown",
   "metadata": {},
   "source": [
    "## Only one problem this week\n",
    "\n",
    "This problem uses a dataset in `/coursework/homeworks/hw_data/`."
   ]
  },
  {
   "cell_type": "code",
   "execution_count": 24,
   "metadata": {},
   "outputs": [
    {
     "name": "stdout",
     "output_type": "stream",
     "text": [
      "Requirement already satisfied: numdifftools in /home/kaldorme/miniconda3/envs/astro8070/lib/python3.10/site-packages (0.9.41)\n",
      "Requirement already satisfied: numpy>=1.9 in /home/kaldorme/miniconda3/envs/esoreflex/lib/python3.10/site-packages (from numdifftools) (1.26.4)\n",
      "Requirement already satisfied: scipy>=0.8 in /home/kaldorme/miniconda3/envs/esoreflex/lib/python3.10/site-packages (from numdifftools) (1.14.1)\n"
     ]
    }
   ],
   "source": [
    "!pip install numdifftools"
   ]
  },
  {
   "cell_type": "code",
   "execution_count": 25,
   "metadata": {},
   "outputs": [],
   "source": [
    "import numdifftools as nd"
   ]
  },
  {
   "cell_type": "markdown",
   "metadata": {},
   "source": [
    "### Solution"
   ]
  },
  {
   "cell_type": "code",
   "execution_count": 26,
   "metadata": {},
   "outputs": [],
   "source": [
    "# MEK import block\n",
    "import numpy as np\n",
    "import matplotlib.pyplot as plt\n",
    "import scipy.stats as stats\n",
    "from scipy import optimize\n",
    "import time\n",
    "import corner"
   ]
  },
  {
   "cell_type": "markdown",
   "metadata": {},
   "source": [
    "1) Read in `hw3_data_1.npy`. This is a (100 x 2) numpy array, with measurements in the first column and uncertainties in the second column. Using the analytic results for heteroscedastic Gaussian data from lectures, compute the sample mean and the standard error on the sample mean from for this data."
   ]
  },
  {
   "cell_type": "code",
   "execution_count": 27,
   "metadata": {},
   "outputs": [],
   "source": [
    "# MEK read in data and separate it into its respective columns\n",
    "hw3data1 = np.load(\"./../../homeworks/hw_data/hw3_data_1.npy\")\n",
    "data = hw3data1[:,0]\n",
    "uncert = hw3data1[:,1]"
   ]
  },
  {
   "cell_type": "markdown",
   "metadata": {},
   "source": [
    "For heteroschedastic Gaussian data:\n",
    "$$\\hat \\mu = \\frac{\\sum_i^N (x_i/\\sigma_i^2)}{\\sum_i^N (1/\\sigma_i^2)},$$\n",
    "\n",
    "$$\\sigma_{\\mu} = \\left( \\sum_{i=1}^N \\frac{1}{\\sigma_i^2}\\right)^{-1/2}.$$"
   ]
  },
  {
   "cell_type": "code",
   "execution_count": 28,
   "metadata": {},
   "outputs": [
    {
     "name": "stdout",
     "output_type": "stream",
     "text": [
      "Sample mean = 4.0821\n"
     ]
    }
   ],
   "source": [
    "# MEK first look at mean\n",
    "numerator = data/(uncert**2)\n",
    "numerator = np.sum(numerator)\n",
    "\n",
    "denominator = 1/(uncert**2)\n",
    "denominator = np.sum(denominator)\n",
    "\n",
    "mu = numerator/denominator\n",
    "print(\"Sample mean =\", \"%.4f\"%mu)"
   ]
  },
  {
   "cell_type": "code",
   "execution_count": 29,
   "metadata": {},
   "outputs": [
    {
     "name": "stdout",
     "output_type": "stream",
     "text": [
      "Uncertainty on the sample mean = 0.0938\n"
     ]
    }
   ],
   "source": [
    "# MEK next look at uncertainty on the mean\n",
    "sigma = denominator**(-1/2)\n",
    "print(\"Uncertainty on the sample mean =\", \"%.4f\"%sigma)"
   ]
  },
  {
   "cell_type": "markdown",
   "metadata": {},
   "source": [
    "2) Reusing some approaches and tools from `Lecture_6`, write a ln-likelihood function for heteroscedastic Gaussian data, and use it in a fitting algorithm to find the best-fit mean. *Remember that scipy optimizers are set up to minimize functions.*"
   ]
  },
  {
   "cell_type": "markdown",
   "metadata": {},
   "source": [
    "$$p(x|\\mu,\\sigma) = \\frac{1}{\\sigma\\sqrt{2\\pi}} \\exp\\left(\\frac{-(x-\\mu)^2}{2\\sigma^2}\\right).$$\n",
    "The above relationship is the likelihood - take the natural log of it!"
   ]
  },
  {
   "cell_type": "code",
   "execution_count": 30,
   "metadata": {},
   "outputs": [
    {
     "name": "stdout",
     "output_type": "stream",
     "text": [
      "Optimization terminated successfully.\n",
      "         Current function value: 153.618546\n",
      "         Iterations: 12\n",
      "         Function evaluations: 24\n",
      "Best-fit mean = 4.0821\n"
     ]
    }
   ],
   "source": [
    "# MEK heteroschedastic Gaussian ln(likelihood) function - make it negative because optimize.fmin minimizes functions\n",
    "def het_G(mu, sigma, x):\n",
    "    num = -1*((x-mu)**2)\n",
    "    denom = 2*(sigma**2)\n",
    "    lnL = num/denom\n",
    "    lnL = np.sum(num/denom)\n",
    "    const = np.sum(np.log(1/(sigma*np.sqrt(2*np.pi))))\n",
    "    lnL += const\n",
    "    lnL *= -1\n",
    "    return lnL\n",
    "\n",
    "# MEK define a function that will optimize the mean, given certain data\n",
    "fit = lambda beta: het_G(beta[0], uncert, data)\n",
    "\n",
    "# MEK compute the maximum likelihood \n",
    "beta = mu\n",
    "beta_fit, lnL_G_max, it_G, evals_G, warn_G = optimize.fmin(fit, beta, full_output=True)\n",
    "\n",
    "print(\"Best-fit mean =\", \"%.4f\"%beta_fit[0])"
   ]
  },
  {
   "cell_type": "markdown",
   "metadata": {},
   "source": [
    "3) Using the same numerical technique from `Lecture_5`, compute the Fisher uncertainty estimate on the mean."
   ]
  },
  {
   "cell_type": "code",
   "execution_count": 31,
   "metadata": {},
   "outputs": [
    {
     "name": "stdout",
     "output_type": "stream",
     "text": [
      "Fisher uncertainty estimate on the mean = 0.0938\n"
     ]
    }
   ],
   "source": [
    "# MEK borrow Fisher uncertainty calculation steps from SRT\n",
    "H = nd.Hessian(fit)(beta)\n",
    "sigma_mu = np.linalg.inv(H)**0.5\n",
    "print(\"Fisher uncertainty estimate on the mean =\", \"%.4f\"%sigma_mu[0][0])"
   ]
  },
  {
   "cell_type": "markdown",
   "metadata": {},
   "source": [
    "SRT: Correct, but not the method being referred to in Lecture 5, which was taking numerical finite differences to do the second derivative. -1 point"
   ]
  },
  {
   "cell_type": "markdown",
   "metadata": {},
   "source": [
    "4) Using the bootstrap method, generate $2000$ bootstrap realizations of this dataset. Using an appropriate timing function in python, how long did the generation of these realizations take? \n",
    "*DO NOT use the `astroML` code. Write your own bootstrap function from scratch. Also recall that when resampling data, measurements and uncertainties should stay paired together. This code will be graded on efficiency and speed; it should not take more than 1 second to execute.*"
   ]
  },
  {
   "cell_type": "code",
   "execution_count": 32,
   "metadata": {},
   "outputs": [
    {
     "name": "stdout",
     "output_type": "stream",
     "text": [
      "Total run time = 0.0462 sec\n"
     ]
    }
   ],
   "source": [
    "# MEK time this\n",
    "start = time.time()\n",
    "\n",
    "# MEK set up iterations for collecting all bootstrap samples\n",
    "i = 0\n",
    "N = 2000\n",
    "boot = []\n",
    "while i<N:\n",
    "    idx = np.random.randint(low=0, high=len(data), size=len(data))\n",
    "    sample = hw3data1[idx]\n",
    "    boot.append(sample)\n",
    "    i+=1\n",
    "\n",
    "# MEK convert list to array and finish timing\n",
    "boot = np.array(boot)\n",
    "end = time.time()\n",
    "\n",
    "elapsed = end-start\n",
    "print(\"Total run time =\", \"%.4f\"%elapsed, \"sec\")"
   ]
  },
  {
   "cell_type": "markdown",
   "metadata": {},
   "source": [
    "5) Repeat (2) with all $2000$ boostrap datasets to find the distribution of the sample mean. How long did this take? Plot a normalized histogram of these bootstrap means, and overplot a Gaussian pdf with the mean and std found in (1). Do these agree?"
   ]
  },
  {
   "cell_type": "code",
   "execution_count": 33,
   "metadata": {},
   "outputs": [],
   "source": [
    "# MEK repeat general process of (2) but do it over all bootstrap samples\n",
    "def bootstrap_mean(boots):\n",
    "    means = []\n",
    "    beta = mu\n",
    "    for sample in boots:\n",
    "        data = sample[:,0]\n",
    "        uncert = sample[:,1]\n",
    "        fit = lambda beta: het_G(beta[0], uncert, data)\n",
    "        beta_fit = optimize.fmin(fit, beta, disp=False)\n",
    "        means.append(beta_fit[0])\n",
    "\n",
    "    means = np.array(means)\n",
    "    return means"
   ]
  },
  {
   "cell_type": "code",
   "execution_count": 34,
   "metadata": {},
   "outputs": [
    {
     "name": "stdout",
     "output_type": "stream",
     "text": [
      "Total run time = 0.9909 sec\n"
     ]
    }
   ],
   "source": [
    "# MEK time this\n",
    "start = time.time()\n",
    "\n",
    "# MEK utilize bootstrap mean function defined above and finish timing\n",
    "means = bootstrap_mean(boot)\n",
    "end = time.time()\n",
    "\n",
    "elapsed = end-start\n",
    "print(\"Total run time =\", \"%.4f\"%elapsed, \"sec\")"
   ]
  },
  {
   "cell_type": "code",
   "execution_count": 35,
   "metadata": {},
   "outputs": [
    {
     "data": {
      "image/png": "[encoded data removed]",
      "text/plain": [
       "<Figure size 432x288 with 1 Axes>"
      ]
     },
     "metadata": {
      "needs_background": "light"
     },
     "output_type": "display_data"
    }
   ],
   "source": [
    "# MEK create a general x array to calculate a pdf for comparison\n",
    "xgrid = np.linspace(3.4,4.8,1000)\n",
    "\n",
    "# MEK plot pdf and bootstrap means in a histogram\n",
    "plt.hist(means, bins=40, density=True, label=\"Bootstrap means\")\n",
    "plt.plot(xgrid, stats.norm.pdf(xgrid, loc=mu, scale=sigma), label=\"Gaussian PDF\")\n",
    "plt.title(\"Comparison of bootstrap means to Gaussian PDF\")\n",
    "plt.xlabel(\"x (unitless)\")\n",
    "plt.ylabel(\"Histogram counts (normalized) and pdf value (unitless)\")\n",
    "plt.legend()\n",
    "plt.show()"
   ]
  },
  {
   "cell_type": "markdown",
   "metadata": {},
   "source": [
    "SRT: Good!"
   ]
  },
  {
   "cell_type": "markdown",
   "metadata": {},
   "source": [
    "6) While we have fitted a heteroscedastic Gaussian to this data, let's try something else. Write some code to define a ln-likelihood for a Laplace distribution evaluated on this data. Fit simultaneously for the Laplace location parameter $\\mu$ and scale parameter $\\Delta$."
   ]
  },
  {
   "cell_type": "code",
   "execution_count": 36,
   "metadata": {},
   "outputs": [],
   "source": [
    "# MEK leverage handy-dandy Laplace functions in scipy to take the ln(likelihood) for a Laplace distribution - make it negative because\n",
    "# optimize.fmin minimizes functions\n",
    "def lnL_laplace(x, mu, sigma):\n",
    "    lnL = stats.laplace.logpdf(x, loc=mu, scale=sigma)\n",
    "    lnL = -1*np.sum(lnL)\n",
    "    return lnL"
   ]
  },
  {
   "cell_type": "code",
   "execution_count": 37,
   "metadata": {},
   "outputs": [
    {
     "name": "stdout",
     "output_type": "stream",
     "text": [
      "Optimization terminated successfully.\n",
      "         Current function value: 161.631942\n",
      "         Iterations: 60\n",
      "         Function evaluations: 114\n",
      "Best fit mu and delta =  [4.08779794 0.92604934]\n"
     ]
    }
   ],
   "source": [
    "# MEK establish an initial guess, then optimize it\n",
    "beta = (mu, sigma)\n",
    "fit_laplace = lambda beta: lnL_laplace(data, beta[0], beta[1])\n",
    "beta_fit_laplace, lnL_L_max, it_L, evals_L, warn_L = optimize.fmin(fit_laplace, beta,full_output=True)\n",
    "print(\"Best fit mu and delta = \", beta_fit_laplace)"
   ]
  },
  {
   "cell_type": "markdown",
   "metadata": {},
   "source": [
    "SRT: Excellent"
   ]
  },
  {
   "cell_type": "markdown",
   "metadata": {},
   "source": [
    "7) Compute the AIC values for the heteroscedastic Gaussian model and the Laplacian model. Which model is favored by the data?\n",
    "$$ \\mathrm{AIC}_M \\equiv -2\\ln[L^0(M)] + 2k + \\frac{2k(k+1)}{N-k-1}, $$"
   ]
  },
  {
   "cell_type": "code",
   "execution_count": 38,
   "metadata": {},
   "outputs": [],
   "source": [
    "# MEK calculate generic AIC values based on ln(likelihood), number of parameters (k) and number of samples (N)\n",
    "def aic(lnL, k, N):\n",
    "    aic = (-2*lnL)+(2*k)+(((2*k)*(k+1))/(N-k-1))\n",
    "    return aic"
   ]
  },
  {
   "cell_type": "code",
   "execution_count": 39,
   "metadata": {},
   "outputs": [
    {
     "name": "stdout",
     "output_type": "stream",
     "text": [
      "Gaussian: 309.2391\n",
      "Laplace: 327.2699\n"
     ]
    }
   ],
   "source": [
    "# MEK calculate and return AIC values for the Gaussian and Laplace approaches\n",
    "aic_G = aic(-lnL_G_max, 1, 2000)\n",
    "aic_L = aic(-lnL_L_max, 2, 2000)\n",
    "\n",
    "print(\"Gaussian:\", \"%.4f\"%aic_G)\n",
    "print(\"Laplace:\", \"%.4f\"%aic_L)"
   ]
  },
  {
   "cell_type": "markdown",
   "metadata": {},
   "source": [
    "SRT: Nice"
   ]
  },
  {
   "cell_type": "markdown",
   "metadata": {},
   "source": [
    "8) Using the $2000$ bootstrap datasets from before, fit for the Laplacian $\\mu$ and $\\Delta$ for each. Make a nice `corner` plot of the distributions of $\\mu$ and $\\Delta$ that shows both the marginal $1$D distributions and the joint $2$D distribution. Make sure the plot has labels, shows the titles on each $1$D marginal panel, and has $68\\%$ and $95\\%$ levels."
   ]
  },
  {
   "cell_type": "code",
   "execution_count": 40,
   "metadata": {},
   "outputs": [],
   "source": [
    "# MEK optimizing (simultaneously) a mu and delta value for all bootstrap samples\n",
    "def laplace_mean(boots):\n",
    "    means = []\n",
    "    beta = beta_fit_laplace\n",
    "    for sample in boots:\n",
    "        data = sample[:,0]\n",
    "        fit = lambda beta: lnL_laplace(data, beta[0], beta[1])\n",
    "        beta_fit = optimize.fmin(fit, beta, disp=False)\n",
    "        means.append(beta_fit)\n",
    "\n",
    "    means = np.array(means)\n",
    "    return means"
   ]
  },
  {
   "cell_type": "code",
   "execution_count": 41,
   "metadata": {},
   "outputs": [
    {
     "name": "stdout",
     "output_type": "stream",
     "text": [
      "Total run time = 9.9802 sec\n"
     ]
    }
   ],
   "source": [
    "# MEK time this\n",
    "start = time.time()\n",
    "\n",
    "# MEK calculate optimized values and finish timing\n",
    "laplace_results = laplace_mean(boot)\n",
    "end = time.time()\n",
    "\n",
    "elapsed = end-start\n",
    "print(\"Total run time =\", \"%.4f\"%elapsed, \"sec\")"
   ]
  },
  {
   "cell_type": "code",
   "execution_count": 42,
   "metadata": {},
   "outputs": [],
   "source": [
    "# MEK store best fit mu and delta values\n",
    "laplace_mu = laplace_results[:,0]\n",
    "laplace_delta = laplace_results[:,1]"
   ]
  },
  {
   "cell_type": "code",
   "execution_count": 43,
   "metadata": {},
   "outputs": [
    {
     "data": {
      "image/png": "[encoded data removed]",
      "text/plain": [
       "<Figure size 396x396 with 4 Axes>"
      ]
     },
     "metadata": {
      "needs_background": "light"
     },
     "output_type": "display_data"
    }
   ],
   "source": [
    "# MEK plot both distributions on a corner plot with dashed lines for 1sigma and 2sigma values\n",
    "corner.corner(laplace_results, titles=[r\"$\\mu$\",r\"$\\Delta$\"], show_titles=True, labels=[r\"$\\mu$\",r\"$\\Delta$\"], \\\n",
    "              quantiles=[0.025, 0.16, 0.84, 0.975]);"
   ]
  },
  {
   "cell_type": "markdown",
   "metadata": {},
   "source": [
    "9) Let's finish with a Fisher uncertainty estimate of the Laplacian parameters. Use the following code to install `numdifftools` which provides a simple way to compute derivatives. We can then compute the Hessian matrix, which is the matrix of the second derivatives of the user's function. This should be computed at the best-fit Laplacian parameters $\\mu$ and $\\Delta$. To finish, invert the matrix, and then take the square root. The diagonal entries will then be the Fisher uncertainties on $\\mu$ and $\\Delta$. How does these compare to the bootstrap distribution widths found in (8)?"
   ]
  },
  {
   "cell_type": "code",
   "execution_count": 44,
   "metadata": {},
   "outputs": [
    {
     "name": "stdout",
     "output_type": "stream",
     "text": [
      "Fisher uncertainty estimate on mu = 0.1164\n",
      "Fisher uncertainty estimate on delta = 0.0926\n"
     ]
    },
    {
     "name": "stderr",
     "output_type": "stream",
     "text": [
      "/tmp/ipykernel_122533/3174048791.py:3: RuntimeWarning: invalid value encountered in sqrt\n",
      "  res = np.linalg.inv(H)**0.5\n"
     ]
    }
   ],
   "source": [
    "# MEK borrow from SRT again for similar approach\n",
    "H = nd.Hessian(fit_laplace)(beta_fit_laplace)\n",
    "res = np.linalg.inv(H)**0.5\n",
    "\n",
    "print(\"Fisher uncertainty estimate on mu =\", \"%.4f\"%np.diag(res)[0])\n",
    "print(\"Fisher uncertainty estimate on delta =\", \"%.4f\"%np.diag(res)[1])"
   ]
  },
  {
   "cell_type": "markdown",
   "metadata": {},
   "source": [
    "The widths look fairly similar to (8)! For $\\mu$, the values are 0.15 above and 0.20 below, while the Fisher uncertainty is 0.12. For $\\Delta$, the values are 0.07 in either direction, and the Fisher uncertainty is 0.09. Not too bad $\\ddot\\smile$"
   ]
  },
  {
   "cell_type": "markdown",
   "metadata": {},
   "source": [
    "SRT: Well done!"
   ]
  },
  {
   "cell_type": "markdown",
   "metadata": {},
   "source": []
  }
 ],
 "metadata": {
  "anaconda-cloud": {},
  "kernelspec": {
   "display_name": "Python [conda env:astro8070] *",
   "language": "python",
   "name": "conda-env-astro8070-py"
  },
  "language_info": {
   "codemirror_mode": {
    "name": "ipython",
    "version": 3
   },
   "file_extension": ".py",
   "mimetype": "text/x-python",
   "name": "python",
   "nbconvert_exporter": "python",
   "pygments_lexer": "ipython3",
   "version": "3.10.16"
  }
 },
 "nbformat": 4,
 "nbformat_minor": 4
}
