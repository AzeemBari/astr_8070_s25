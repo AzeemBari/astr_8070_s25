{
    "cells": [
        {
            "cell_type": "markdown",
            "metadata": {},
            "source": [
                "### ASTR 8070: Astrostatistics\n",
                "***S. R. Taylor***\n",
                "___\n",
                "\n",
                "# Homework 1\n",
                "### Due: Saturday, Jan 11th at 11.59pm CST\n",
                "---"
            ]
        },
        {
            "cell_type": "markdown",
            "metadata": {},
            "source": [
                "## Problem 1\n",
                "\n",
                "Practice your git and GitHub skills by submitting this homework via GitHub.  You can skip Steps 1-4 if you have already completed the in-class work of Lecture 1.  Steps 5-11 are the new steps.  \n",
                "\n",
                "1) Navigate to https://github.com/VanderbiltAstronomy/astr_8070_s25 on your browser. **Don't clone this!** Instead, look to the rop right of the page for an option to fork the repository. Do this now. This will make a copy of the class repository for your own personal use.\n",
                "\n",
                "2) Now that you have a fork of the repository, clone it to your machine.\n",
                "\n",
                "    $ git clone https://github.com/YOUR_USERNAME/astr_8070_s25\n",
                "\n",
                "3) Add the original `VanderbiltAstronomy` repository as an `upstream` repository to your fork. First, list the current configured remote repository for your fork with:\n",
                "\n",
                "    $ git remote -v\n",
                "    \n",
                "Now, add the `VanderbiltAstronomy` repo as an upstream:\n",
                "\n",
                "    $ git remote add upstream https://github.com/VanderbiltAstronomy/astr_8070_s25\n",
                "    \n",
                "Verify that the new repository shows as an `upstream` by running `git remote -v` again.\n",
                "\n",
                "4) Get used to syncing upstream content to your fork with:\n",
                "\n",
                "    $ git fetch upstream\n",
                "    \n",
                "    $ git checkout main\n",
                "    \n",
                "    $ git merge upstream/main\n",
                "\n",
                "5) Now, navigate to `coursework/student_folders` folder. Make a folder in here labeled by your name in all lowercase(i.e. `firstname_lastname`).\n",
                "\n",
                "6) Copy your completed lecture notebooks (with all exercises in red finished) to your folder, adding your name to the file (e.g. `Lecture_1b_FirstnameLastname.ipynb`). This is what you will do for each week's lecture notebooks to get participation credit. Your lecture notebooks should have already been copies of my base lecture notebooks. **Never** run my base notebooks; always make a personal copy for yourself.\n",
                "\n",
                "7) Copy the **Homework 1** notebook (this file) to your folder, adding your name (e.g. `vu_astr8070_s25_hw1_FirstnameLastname.ipynb`) \n",
                "\n",
                "8) Complete the other problems listed below.\n",
                "\n",
                "9) Submit your homework as follows (making sure that your added files are contained within your student folder):\n",
                "\n",
                "    $ git add vu_astr8070_s25_hw1_FirstnameLastname.ipynb\n",
                "    \n",
                "    $ git commit -m \"Uploaded Homework 1\"\n",
                "    \n",
                "    $ git push\n",
                "   \n",
                "10) Similarly add, commit, and push your completed lecture notebooks. \n",
                "\n",
                "11) On your browser, navigate on GitHub to your fork of the course repository. You should see an option to initiate a `pull request` to merge your changes into the `main` repository. Your homework and lecture notebooks for the week are submitted when you initiate this pull request."
            ]
        },
        {
            "cell_type": "markdown",
            "metadata": {},
            "source": [
                "## Problem 2\n",
                "\n"
            ]
        },
        {
            "cell_type": "markdown",
            "metadata": {},
            "source": [
                "Consider a family with two children. Assume that the probability of females and males being born is equal, i.e. $p(F)=0.5$ and $p(M)=0.5$. Remember that \"given\" means your calculation is conditioned on some already fixed data or outcome. \n",
                "\n",
                "1) What is the probability of one male and one female **GIVEN** that the first child is male. \n",
                "\n",
                "2) What is the probability of two females **GIVEN** that at least one child is female.\n",
                "\n",
                "3) What is the probability of two females **GIVEN** that the older child is female.\n",
                "\n",
                "You will find it easiest to answer these questions by sketching a \"tree diagram\" to visualize the options for the oldest child, and the branching options for the youngest child. \n",
                "\n",
                "Either write your solution as Markdown/Latex below, or paste in a scanned image of your handwritten solution."
            ]
        },
        {
            "cell_type": "markdown",
            "metadata": {},
            "source": [
                "### Solution"
            ]
        },
        {
            "cell_type": "markdown",
            "metadata": {},
            "source": [
                "1) *(To get you started)* If the first child is male, then the only unknown is the sex of the second child. We want the second child to be female, which has a probability of 0.5. Thus, $p(F,M |C_1=M) = 0.5$. \n",
                "\n",
                "2) Starting with a possibility of having a male child, there is a .5 probability of one being a female (M,F) and a .5 of the other being male (M,M). Starting with a possibility of having a female child, there is a .5 probability that the child is male (M,F) and a .5 probability the child is female (F,F). So, there are 3 total possible paths of having a female child (M,F), (M,F), (F,F), but only one with two females. Therefore the probability is 1/3.\n",
                "\n",
                "3) If the older child is female and want the second child to be female, the probability of that happening is 0.5."
            ]
        },
        {
            "cell_type": "markdown",
            "metadata": {},
            "source": [
                "## Problem 3\n",
                "\n",
                "1) Use `numpy` to draw $1000$ random samples from a uniform distribution between $0.1$ and $10$, and store these samples as $x$.\n",
                "\n",
                "2) Use matplotlib to make a histogram of these samples. Try to make this as aesthetically pleasing as possible (within reason).\n",
                "\n",
                "3) Compute the base-10 log of your array $x$, and store this as $y$.\n",
                "\n",
                "4) Make another histogram for $y$. Using the equation to transform probability distributions in `Lecture_2`, write here what the theoretical pdf of $y$ is, and overplot it onto your histogram.\n",
                "\n",
                "5) Compute the mean of $x$ and the mean of $y$. Now compute the median of $x$ and the median of $y$. You should note that the means are different, but the medians (as it is a cumulative statistic) are the same. The mean is affected by the scale of the sample values, but the median only depends on the ordering of the samples. Monotonic transformations (like taking the log) do not change the ordering of samples."
            ]
        },
        {
            "cell_type": "markdown",
            "metadata": {},
            "source": [
                "### Solution"
            ]
        },
        {
            "cell_type": "code",
            "execution_count": 11,
            "metadata": {},
            "outputs": [],
            "source": [
                "import numpy as np\n",
                "import matplotlib.pyplot as plt"
            ]
        },
        {
            "cell_type": "code",
            "execution_count": 58,
            "metadata": {},
            "outputs": [],
            "source": [
                "#make 1000 random uniform values ranging from 0.1 to 1000\n",
                "x = np.random.uniform(0.1,10,1000)"
            ]
        },
        {
            "cell_type": "code",
            "execution_count": 57,
            "metadata": {},
            "outputs": [
                {
                    "data": {
                        "text/plain": [
                            "Text(0, 0.5, '$p_{x}(x)$')"
                        ]
                    },
                    "execution_count": 57,
                    "metadata": {},
                    "output_type": "execute_result"
                },
                {
                    "data": {
                        "image/png": "[encoded data removed]",
                        "text/plain": [
                            "<Figure size 640x480 with 1 Axes>"
                        ]
                    },
                    "metadata": {},
                    "output_type": "display_data"
                }
            ],
            "source": [
                "#plot\n",
                "plt.hist(x)\n",
                "plt.xlabel('x')\n",
                "plt.ylabel(r'$p_{x}(x)$')"
            ]
        },
        {
            "cell_type": "markdown",
            "metadata": {},
            "source": [
                "From Lecture 2, we see that the theoretical pdf of y is $p(y) = |\\frac{dy}{dx}|^{-1}\\cdot p(x)$. Solving for the differential we get $p(y) = |x\\cdot ln 10|\\cdot p(x)$"
            ]
        },
        {
            "cell_type": "code",
            "execution_count": 56,
            "metadata": {},
            "outputs": [
                {
                    "data": {
                        "image/png": "[encoded data removed]",
                        "text/plain": [
                            "<Figure size 640x480 with 1 Axes>"
                        ]
                    },
                    "metadata": {},
                    "output_type": "display_data"
                }
            ],
            "source": [
                "y = np.log10(x) #take log of x\n",
                "#plot\n",
                "plt.hist(y) \n",
                "plt.xlabel('y')\n",
                "plt.ylabel(r'$p_{y}(y)$')\n",
                "plt.text(-1, 350, r'$p(y) = |x\\cdot ln 10|\\cdot p(x)$', fontsize=14)\n",
                "\n",
                "plt.show()\n"
            ]
        },
        {
            "cell_type": "code",
            "execution_count": 37,
            "metadata": {},
            "outputs": [
                {
                    "name": "stdout",
                    "output_type": "stream",
                    "text": [
                        "5.092250612767968 0.5839167448281669 5.123112089265829 5.12311208926583\n"
                    ]
                }
            ],
            "source": [
                "#compute the means\n",
                "x_mean = np.mean(x)\n",
                "y_mean = np.mean(y)\n",
                "#and the medians\n",
                "x_median = np.median(x)\n",
                "y_median = np.median(10**y)\n",
                "print(x_mean, y_mean, x_median, y_median)"
            ]
        },
        {
            "cell_type": "code",
            "execution_count": null,
            "metadata": {},
            "outputs": [],
            "source": []
        }
    ],
    "metadata": {
        "anaconda-cloud": {},
        "kernelspec": {
            "display_name": "astr8070",
            "language": "python",
            "name": "python3"
        },
        "language_info": {
            "codemirror_mode": {
                "name": "ipython",
                "version": 3
            },
            "file_extension": ".py",
            "mimetype": "text/x-python",
            "name": "python",
            "nbconvert_exporter": "python",
            "pygments_lexer": "ipython3",
            "version": "3.13.1"
        }
    },
    "nbformat": 4,
    "nbformat_minor": 2
}
