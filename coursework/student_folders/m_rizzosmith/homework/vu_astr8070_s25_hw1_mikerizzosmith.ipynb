{
    "cells": [
        {
            "cell_type": "markdown",
            "metadata": {},
            "source": [
                "### ASTR 8070: Astrostatistics\n",
                "***S. R. Taylor***\n",
                "___\n",
                "\n",
                "# Homework 1\n",
                "### Due: Saturday, Jan 11th at 11.59pm CST\n",
                "---"
            ]
        },
        {
            "cell_type": "markdown",
            "metadata": {},
            "source": [
                "## Problem 1\n",
                "\n",
                "Practice your git and GitHub skills by submitting this homework via GitHub.  You can skip Steps 1-4 if you have already completed the in-class work of Lecture 1.  Steps 5-11 are the new steps.  \n",
                "\n",
                "1) Navigate to https://github.com/VanderbiltAstronomy/astr_8070_s25 on your browser. **Don't clone this!** Instead, look to the rop right of the page for an option to fork the repository. Do this now. This will make a copy of the class repository for your own personal use.\n",
                "\n",
                "2) Now that you have a fork of the repository, clone it to your machine.\n",
                "\n",
                "    $ git clone https://github.com/YOUR_USERNAME/astr_8070_s25\n",
                "\n",
                "3) Add the original `VanderbiltAstronomy` repository as an `upstream` repository to your fork. First, list the current configured remote repository for your fork with:\n",
                "\n",
                "    $ git remote -v\n",
                "    \n",
                "Now, add the `VanderbiltAstronomy` repo as an upstream:\n",
                "\n",
                "    $ git remote add upstream https://github.com/VanderbiltAstronomy/astr_8070_s25\n",
                "    \n",
                "Verify that the new repository shows as an `upstream` by running `git remote -v` again.\n",
                "\n",
                "4) Get used to syncing upstream content to your fork with:\n",
                "\n",
                "    $ git fetch upstream\n",
                "    \n",
                "    $ git checkout main\n",
                "    \n",
                "    $ git merge upstream/main\n",
                "\n",
                "5) Now, navigate to `coursework/student_folders` folder. Make a folder in here labeled by your name in all lowercase(i.e. `firstname_lastname`).\n",
                "\n",
                "6) Copy your completed lecture notebooks (with all exercises in red finished) to your folder, adding your name to the file (e.g. `Lecture_1b_FirstnameLastname.ipynb`). This is what you will do for each week's lecture notebooks to get participation credit. Your lecture notebooks should have already been copies of my base lecture notebooks. **Never** run my base notebooks; always make a personal copy for yourself.\n",
                "\n",
                "7) Copy the **Homework 1** notebook (this file) to your folder, adding your name (e.g. `vu_astr8070_s25_hw1_FirstnameLastname.ipynb`) \n",
                "\n",
                "8) Complete the other problems listed below.\n",
                "\n",
                "9) Submit your homework as follows (making sure that your added files are contained within your student folder):\n",
                "\n",
                "    $ git add vu_astr8070_s25_hw1_FirstnameLastname.ipynb\n",
                "    \n",
                "    $ git commit -m \"Uploaded Homework 1\"\n",
                "    \n",
                "    $ git push\n",
                "   \n",
                "10) Similarly add, commit, and push your completed lecture notebooks. \n",
                "\n",
                "11) On your browser, navigate on GitHub to your fork of the course repository. You should see an option to initiate a `pull request` to merge your changes into the `main` repository. Your homework and lecture notebooks for the week are submitted when you initiate this pull request."
            ]
        },
        {
            "cell_type": "markdown",
            "metadata": {},
            "source": [
                "## Problem 2\n",
                "\n"
            ]
        },
        {
            "cell_type": "markdown",
            "metadata": {},
            "source": [
                "Consider a family with two children. Assume that the probability of females and males being born is equal, i.e. $p(F)=0.5$ and $p(M)=0.5$. Remember that \"given\" means your calculation is conditioned on some already fixed data or outcome. \n",
                "\n",
                "1) What is the probability of one male and one female **GIVEN** that the first child is male. \n",
                "\n",
                "2) What is the probability of two females **GIVEN** that at least one child is female.\n",
                "\n",
                "3) What is the probability of two females **GIVEN** that the older child is female.\n",
                "\n",
                "You will find it easiest to answer these questions by sketching a \"tree diagram\" to visualize the options for the oldest child, and the branching options for the youngest child. \n",
                "\n",
                "Either write your solution as Markdown/Latex below, or paste in a scanned image of your handwritten solution."
            ]
        },
        {
            "cell_type": "markdown",
            "metadata": {},
            "source": [
                "### Solution"
            ]
        },
        {
            "cell_type": "markdown",
            "metadata": {},
            "source": [
                "1) *(To get you started)* If the first child is male, then the only unknown is the sex of the second child. We want the second child to be female, which has a probability of 0.5. Thus, $p(F,M |C_1=M) = 0.5$. \n",
                "\n",
                "2) \n",
                "\n",
                "3) "
            ]
        },
        {
            "cell_type": "markdown",
            "metadata": {},
            "source": [
                "## Problem 3\n",
                "\n",
                "1) Use `numpy` to draw $1000$ random samples from a uniform distribution between $0.1$ and $10$, and store these samples as $x$.\n",
                "\n",
                "2) Use matplotlib to make a histogram of these samples. Try to make this as aesthetically pleasing as possible (within reason).\n",
                "\n",
                "3) Compute the base-10 log of your array $x$, and store this as $y$.\n",
                "\n",
                "4) Make another histogram for $y$. Using the equation to transform probability distributions in `Lecture_2`, write here what the theoretical pdf of $y$ is, and overplot it onto your histogram.\n",
                "\n",
                "5) Compute the mean of $x$ and the mean of $y$. Now compute the median of $x$ and the median of $y$. You should note that the means are different, but the medians (as it is a cumulative statistic) are the same. The mean is affected by the scale of the sample values, but the median only depends on the ordering of the samples. Monotonic transformations (like taking the log) do not change the ordering of samples."
            ]
        },
        {
            "cell_type": "markdown",
            "metadata": {},
            "source": [
                "### Solution"
            ]
        },
        {
            "cell_type": "code",
            "execution_count": 36,
            "metadata": {},
            "outputs": [
                {
                    "data": {
                        "image/png": "[encoded data removed]",
                        "text/plain": [
                            "<Figure size 640x480 with 1 Axes>"
                        ]
                    },
                    "metadata": {},
                    "output_type": "display_data"
                },
                {
                    "data": {
                        "image/png": "[encoded data removed]",
                        "text/plain": [
                            "<Figure size 640x480 with 1 Axes>"
                        ]
                    },
                    "metadata": {},
                    "output_type": "display_data"
                },
                {
                    "name": "stdout",
                    "output_type": "stream",
                    "text": [
                        "X Mean: 4.921 Y Mean: 3.750 \n",
                        "X Median: 4.785 Y Median: 4.785\n"
                    ]
                }
            ],
            "source": [
                "import numpy as np\n",
                "import matplotlib.pyplot as plt\n",
                "\n",
                "# Draw 1000 values from a uniform distribution between 0.1 to 10 \n",
                "x = np.random.uniform(0.1, 10, 1000)\n",
                "\n",
                "p_x = 1 / (10- 0.1)\n",
                "# Plot the histogram of x values\n",
                "plt.hist(x, color ='lightblue', edgecolor='gray', density=True)\n",
                "plt.show()\n",
                "\n",
                "# Take the log base 10 of the 1000 random x values\n",
                "y = np.log10(x)\n",
                "\n",
                "# Plot the historgram of y values\n",
                "plt.hist(y, color ='lightblue', edgecolor='gray', density=True)\n",
                "\n",
                "# Set up a grid from -1 to 1 in log for overploting the theoretical pdf of y\n",
                "y_line = np.linspace(-1, 1, 1000)\n",
                "\n",
                "# Calculate p(y)\n",
                "p_y = np.log(10) * (10**y_line) * p_x\n",
                "plt.plot(y_line, p_y)\n",
                "plt.show()\n",
                "\n",
                "# Printing the Means and Medians of X and Y\n",
                "print(f'X Mean: {np.mean(x):.3f}', f'Y Mean: {10**np.mean(y):.3f}',\n",
                "      f'\\nX Median: {np.median(x):.3f}', f'Y Median: {10**np.median(y):.3f}')\n",
                "\n"
            ]
        },
        {
            "cell_type": "code",
            "execution_count": null,
            "metadata": {},
            "outputs": [],
            "source": []
        }
    ],
    "metadata": {
        "anaconda-cloud": {},
        "kernelspec": {
            "display_name": "astr8070",
            "language": "python",
            "name": "python3"
        },
        "language_info": {
            "codemirror_mode": {
                "name": "ipython",
                "version": 3
            },
            "file_extension": ".py",
            "mimetype": "text/x-python",
            "name": "python",
            "nbconvert_exporter": "python",
            "pygments_lexer": "ipython3",
            "version": "3.13.1"
        }
    },
    "nbformat": 4,
    "nbformat_minor": 2
}
