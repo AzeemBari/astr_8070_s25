{
 "cells": [
  {
   "cell_type": "markdown",
   "metadata": {},
   "source": [
    "### ASTR 8070: Astrostatistics\n",
    "***S. R. Taylor***\n",
    "___\n",
    "\n",
    "# Homework 1\n",
    "### Due: Saturday, Jan 11th at 11.59pm CST\n",
    "---"
   ]
  },
  {
   "cell_type": "markdown",
   "metadata": {},
   "source": [
    "## Problem 1\n",
    "\n",
    "Practice your git and GitHub skills by submitting this homework via GitHub.  You can skip Steps 1-4 if you have already completed the in-class work of Lecture 1.  Steps 5-11 are the new steps.  \n",
    "\n",
    "1) Navigate to https://github.com/VanderbiltAstronomy/astr_8070_s25 on your browser. **Don't clone this!** Instead, look to the rop right of the page for an option to fork the repository. Do this now. This will make a copy of the class repository for your own personal use.\n",
    "\n",
    "2) Now that you have a fork of the repository, clone it to your machine.\n",
    "\n",
    "    $ git clone https://github.com/YOUR_USERNAME/astr_8070_s25\n",
    "\n",
    "3) Add the original `VanderbiltAstronomy` repository as an `upstream` repository to your fork. First, list the current configured remote repository for your fork with:\n",
    "\n",
    "    $ git remote -v\n",
    "    \n",
    "Now, add the `VanderbiltAstronomy` repo as an upstream:\n",
    "\n",
    "    $ git remote add upstream https://github.com/VanderbiltAstronomy/astr_8070_s25\n",
    "    \n",
    "Verify that the new repository shows as an `upstream` by running `git remote -v` again.\n",
    "\n",
    "4) Get used to syncing upstream content to your fork with:\n",
    "\n",
    "    $ git fetch upstream\n",
    "    \n",
    "    $ git checkout main\n",
    "    \n",
    "    $ git merge upstream/main\n",
    "\n",
    "5) Now, navigate to `coursework/student_folders` folder. Make a folder in here labeled by your name in all lowercase(i.e. `firstname_lastname`).\n",
    "\n",
    "6) Copy your completed lecture notebooks (with all exercises in red finished) to your folder, adding your name to the file (e.g. `Lecture_1b_FirstnameLastname.ipynb`). This is what you will do for each week's lecture notebooks to get participation credit. Your lecture notebooks should have already been copies of my base lecture notebooks. **Never** run my base notebooks; always make a personal copy for yourself.\n",
    "\n",
    "7) Copy the **Homework 1** notebook (this file) to your folder, adding your name (e.g. `vu_astr8070_s25_hw1_FirstnameLastname.ipynb`) \n",
    "\n",
    "8) Complete the other problems listed below.\n",
    "\n",
    "9) Submit your homework as follows (making sure that your added files are contained within your student folder):\n",
    "\n",
    "    $ git add vu_astr8070_s25_hw1_FirstnameLastname.ipynb\n",
    "    \n",
    "    $ git commit -m \"Uploaded Homework 1\"\n",
    "    \n",
    "    $ git push\n",
    "   \n",
    "10) Similarly add, commit, and push your completed lecture notebooks. \n",
    "\n",
    "11) On your browser, navigate on GitHub to your fork of the course repository. You should see an option to initiate a `pull request` to merge your changes into the `main` repository. Your homework and lecture notebooks for the week are submitted when you initiate this pull request."
   ]
  },
  {
   "cell_type": "markdown",
   "metadata": {},
   "source": [
    "## Problem 2\n",
    "\n"
   ]
  },
  {
   "cell_type": "markdown",
   "metadata": {},
   "source": [
    "Consider a family with two children. Assume that the probability of females and males being born is equal, i.e. $p(F)=0.5$ and $p(M)=0.5$. Remember that \"given\" means your calculation is conditioned on some already fixed data or outcome. \n",
    "\n",
    "1) What is the probability of one male and one female **GIVEN** that the first child is male. \n",
    "\n",
    "2) What is the probability of two females **GIVEN** that at least one child is female.\n",
    "\n",
    "3) What is the probability of two females **GIVEN** that the older child is female.\n",
    "\n",
    "You will find it easiest to answer these questions by sketching a \"tree diagram\" to visualize the options for the oldest child, and the branching options for the youngest child. \n",
    "\n",
    "Either write your solution as Markdown/Latex below, or paste in a scanned image of your handwritten solution."
   ]
  },
  {
   "cell_type": "markdown",
   "metadata": {},
   "source": [
    "### Solution"
   ]
  },
  {
   "cell_type": "markdown",
   "metadata": {},
   "source": [
    "1) *(To get you started)* If the first child is male, then the only unknown is the sex of the second child. We want the second child to be female, which has a probability of 0.5. Thus, $p(F,M |C_1=M) = 0.5$. \n",
    "\n",
    "2) If you are given one female, child, then the second child being female is a 50% change, thus probability is $0.5$\n",
    "\n",
    "3) Probability is again 0.5 since one child is guaranteed to be female, $0.5$"
   ]
  },
  {
   "cell_type": "markdown",
   "metadata": {},
   "source": [
    "SRT: (2) No. There are three ways to have at least one female: FF, FM, MF, so p(FF) = 1/3. (3) 0.5 is correct. A tree diagram would have helped you visualize this. -3 points."
   ]
  },
  {
   "cell_type": "markdown",
   "metadata": {},
   "source": [
    "## Problem 3\n",
    "\n",
    "1) Use `numpy` to draw $1000$ random samples from a uniform distribution between $0.1$ and $10$, and store these samples as $x$.\n",
    "\n",
    "2) Use matplotlib to make a histogram of these samples. Try to make this as aesthetically pleasing as possible (within reason).\n",
    "\n",
    "3) Compute the base-10 log of your array $x$, and store this as $y$.\n",
    "\n",
    "4) Make another histogram for $y$. Using the equation to transform probability distributions in `Lecture_2`, write here what the theoretical pdf of $y$ is, and overplot it onto your histogram.\n",
    "\n",
    "5) Compute the mean of $x$ and the mean of $y$. Now compute the median of $x$ and the median of $y$. You should note that the means are different, but the medians (as it is a cumulative statistic) are the same. The mean is affected by the scale of the sample values, but the median only depends on the ordering of the samples. Monotonic transformations (like taking the log) do not change the ordering of samples."
   ]
  },
  {
   "cell_type": "markdown",
   "metadata": {},
   "source": [
    "### Solution"
   ]
  },
  {
   "cell_type": "code",
   "execution_count": 38,
   "metadata": {},
   "outputs": [
    {
     "name": "stdout",
     "output_type": "stream",
     "text": [
      "Standard Deviation is: 2.825758573716789 ± 0.08935833210693865\n",
      "Expected Deviation is: 2.857883832488648\n"
     ]
    },
    {
     "data": {
      "text/plain": [
       "Text(0.5, 1.0, 'Uniform Density Function')"
      ]
     },
     "execution_count": 38,
     "metadata": {},
     "output_type": "execute_result"
    },
    {
     "data": {
      "image/png": "[encoded data removed]",
      "text/plain": [
       "<Figure size 640x480 with 1 Axes>"
      ]
     },
     "metadata": {},
     "output_type": "display_data"
    }
   ],
   "source": [
    "import numpy as np\n",
    "import matplotlib.pyplot as plt\n",
    "%matplotlib inline\n",
    "#1\n",
    "x = np.random.uniform(0.1,10,1000)\n",
    "sigma = np.std(x)\n",
    "esig = sigma/np.sqrt(1000)\n",
    "print('Standard Deviation is:',sigma,'±',esig)\n",
    "print('Expected Deviation is:',(10-0.1)/np.sqrt(12))\n",
    "#2\n",
    "plt.hist(x,20, density=True)\n",
    "plt.xlabel('x')\n",
    "plt.ylabel('Frequency')\n",
    "plt.title('Uniform Density Function')"
   ]
  },
  {
   "cell_type": "markdown",
   "metadata": {},
   "source": [
    "In the above code I used `numpy.random.uniform` to create a uniform distribution, and storing it as x. To show that it is uniform, I checked the standard deviation using the `numpy.std` function on x, and comaared it to the expected standard deviation to see if they have reasonable overlap. Afterwards using `density = true` in` plt.hist()`, normalizes the histogram, turning it into a proper probability density graph, which will be used later to help align p(y) with it's histogram.Additionally I found a bin width of 20 to be aesthetically pleasing."
   ]
  },
  {
   "cell_type": "code",
   "execution_count": 42,
   "metadata": {},
   "outputs": [
    {
     "data": {
      "text/plain": [
       "(array([0.01010834, 0.01010834, 0.02021667, 0.03032501, 0.08086669,\n",
       "        0.07075835, 0.08086669, 0.18195004, 0.2527084 , 0.18195004,\n",
       "        0.2527084 , 0.2830334 , 0.45487511, 0.56606681, 0.61660848,\n",
       "        0.78845019, 1.0714836 , 1.38484201, 1.75885043, 2.01155883]),\n",
       " array([-0.97878509, -0.87985684, -0.78092858, -0.68200033, -0.58307208,\n",
       "        -0.48414383, -0.38521557, -0.28628732, -0.18735907, -0.08843081,\n",
       "         0.01049744,  0.10942569,  0.20835394,  0.3072822 ,  0.40621045,\n",
       "         0.5051387 ,  0.60406696,  0.70299521,  0.80192346,  0.90085171,\n",
       "         0.99977997]),\n",
       " <BarContainer object of 20 artists>)"
      ]
     },
     "execution_count": 42,
     "metadata": {},
     "output_type": "execute_result"
    },
    {
     "data": {
      "image/png": "[encoded data removed]",
      "text/plain": [
       "<Figure size 640x480 with 2 Axes>"
      ]
     },
     "metadata": {},
     "output_type": "display_data"
    }
   ],
   "source": [
    "#3 & $4a\n",
    "fig,(ax1,ax2) = plt.subplots(1,2)\n",
    "plt.ylim(0,1)\n",
    "y = np.log10(x)\n",
    "plt.ylim(0,1)\n",
    "ax1.hist(y,20, density = True, color='orange')\n",
    "fig.suptitle('Y Random Variable')\n",
    "ax2.hist(x,20, density=True)\n",
    "ax2.hist(y,20, density=True)"
   ]
  },
  {
   "cell_type": "markdown",
   "metadata": {},
   "source": [
    "Using the `np.log10()` function, y can be defined as $log(x)$, plotting gets a plot that is seemingly exponential. To make a plot to line up with the histogram we must find p(x), and the relationship between x & y.\n",
    "\n",
    "$p(x)dx = p(y)dy$, $p(x) = C$ & $y = log(x)$\n",
    "\n",
    "Since the total probabilty of p(x)dx is 1, the integral of p(x)dx = 1, and since p(x) is a constant, over the interval 0.1 to 10, $C^-1 = 10-0.1 = 9.9$, $C = 1/9.9$\n",
    "\n",
    "$d/dx log(x)$ is $1/xln(10)$, this is $dy/dx$, to find the inverse just take the recipricol so $dy/dx^-1$ is $xln(10)$\n",
    "\n",
    "Since $x = 10^y$ p(y) = $10^y*ln(10)/9.9$\n",
    "Lets check this using the code below \n"
   ]
  },
  {
   "cell_type": "code",
   "execution_count": 47,
   "metadata": {},
   "outputs": [
    {
     "data": {
      "text/plain": [
       "[<matplotlib.lines.Line2D at 0x134779a90>]"
      ]
     },
     "execution_count": 47,
     "metadata": {},
     "output_type": "execute_result"
    },
    {
     "data": {
      "image/png": "[encoded data removed]",
      "text/plain": [
       "<Figure size 640x480 with 1 Axes>"
      ]
     },
     "metadata": {},
     "output_type": "display_data"
    }
   ],
   "source": [
    "y1 = np.linspace(-2,10, 100)\n",
    "p = np.power(10,y1)*np.log(10)/9.9\n",
    "plt.ylim(0,1)\n",
    "plt.hist(x,20, density=True)\n",
    "plt.hist(y,20, density=True)\n",
    "plt.plot(y1,p)"
   ]
  },
  {
   "cell_type": "markdown",
   "metadata": {},
   "source": [
    "There is good alignment here"
   ]
  },
  {
   "cell_type": "code",
   "execution_count": 52,
   "metadata": {},
   "outputs": [
    {
     "name": "stdout",
     "output_type": "stream",
     "text": [
      "Average of X is 5.088906532993719\n",
      "Average of Y is 0.5966804034459844\n",
      "Median of X is 5.1619035439574805\n",
      "Median of Y is 0.712809839598327\n",
      "Log of Median of X = 0.7128098849970027\n",
      "Log of Mean of X = 0.706624474340019\n"
     ]
    }
   ],
   "source": [
    "#5\n",
    "print('Average of X is',np.average(x))\n",
    "print('Average of Y is',np.average(y))\n",
    "print('Median of X is',np.median(x))\n",
    "print('Median of Y is',np.median(y))\n",
    "print('Log of Median of X =', np.log10(np.median(x)))\n",
    "print('Log of Mean of X =',np.log10(np.mean(x)))"
   ]
  },
  {
   "cell_type": "markdown",
   "metadata": {},
   "source": [
    "The Values are the Same for the Median, but not the Mean"
   ]
  },
  {
   "cell_type": "markdown",
   "metadata": {},
   "source": [
    "SRT: Good work on this question.\n",
    "\n",
    "47/50"
   ]
  },
  {
   "cell_type": "markdown",
   "metadata": {},
   "source": []
  }
 ],
 "metadata": {
  "anaconda-cloud": {},
  "kernelspec": {
   "display_name": "Python 3 (ipykernel)",
   "language": "python",
   "name": "python3"
  },
  "language_info": {
   "codemirror_mode": {
    "name": "ipython",
    "version": 3
   },
   "file_extension": ".py",
   "mimetype": "text/x-python",
   "name": "python",
   "nbconvert_exporter": "python",
   "pygments_lexer": "ipython3",
   "version": "3.13.1"
  }
 },
 "nbformat": 4,
 "nbformat_minor": 4
}
